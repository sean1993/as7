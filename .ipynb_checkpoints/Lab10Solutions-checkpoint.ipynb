{
 "cells": [
  {
   "cell_type": "code",
   "execution_count": null,
   "metadata": {
    "collapsed": false
   },
   "outputs": [],
   "source": [
    "#Q1\n",
    "nums = [23, 6, 86, 34 ,75, 12]\n",
    "for i in nums:\n",
    "    print(i)"
   ]
  },
  {
   "cell_type": "code",
   "execution_count": null,
   "metadata": {
    "collapsed": false
   },
   "outputs": [],
   "source": [
    "#Q2\n",
    "sentence = \"Hello World!\"\n",
    "for i in sentence:\n",
    "    print(i)"
   ]
  },
  {
   "cell_type": "code",
   "execution_count": null,
   "metadata": {
    "collapsed": false
   },
   "outputs": [],
   "source": [
    "paragraph = '''This is\n",
    "a multi-\n",
    "line string.\n",
    "'''\n",
    "\n",
    "for line in paragraph:\n",
    "    clean = line.split()\n",
    "    print(clean)"
   ]
  },
  {
   "cell_type": "code",
   "execution_count": null,
   "metadata": {
    "collapsed": false
   },
   "outputs": [],
   "source": [
    "paragraph = '''This is\n",
    "a multi-\n",
    "line string.\n",
    "'''\n",
    "\n",
    "for line in paragraph:\n",
    "    clean = (line.strip('\\n'),end='')\n",
    "    print(clean)"
   ]
  },
  {
   "cell_type": "code",
   "execution_count": null,
   "metadata": {
    "collapsed": false
   },
   "outputs": [],
   "source": [
    "word = '''This is \n",
    "a multi-\n",
    "line string.\n",
    "'''"
   ]
  },
  {
   "cell_type": "code",
   "execution_count": null,
   "metadata": {
    "collapsed": false
   },
   "outputs": [],
   "source": [
    "for letter in word:\n",
    "    print(letter.strip('\\n'),end'')"
   ]
  },
  {
   "cell_type": "code",
   "execution_count": null,
   "metadata": {
    "collapsed": false
   },
   "outputs": [],
   "source": [
    "#Q3\n",
    "word = '''This is \n",
    "a multi-\n",
    "line string.\n",
    "'''\n",
    "\n",
    "for letter in word:\n",
    "    print(letter.strip(),end='')"
   ]
  },
  {
   "cell_type": "code",
   "execution_count": null,
   "metadata": {
    "collapsed": false
   },
   "outputs": [],
   "source": [
    "letters = ['h', 'e', 'l', 'l', 'o']\n",
    "'-'.join()"
   ]
  },
  {
   "cell_type": "code",
   "execution_count": null,
   "metadata": {
    "collapsed": false
   },
   "outputs": [],
   "source": [
    "#Q4\n",
    "letters = ['h', 'e', 'l', 'l', 'o']\n",
    "'-'.join(letters)"
   ]
  },
  {
   "cell_type": "code",
   "execution_count": null,
   "metadata": {
    "collapsed": false
   },
   "outputs": [],
   "source": [
    "'-'.join[1,2,3,4]"
   ]
  },
  {
   "cell_type": "code",
   "execution_count": null,
   "metadata": {
    "collapsed": false
   },
   "outputs": [],
   "source": [
    "nums = [1,2,3,4]\n",
    "'-'.join(nums)"
   ]
  },
  {
   "cell_type": "code",
   "execution_count": null,
   "metadata": {
    "collapsed": false
   },
   "outputs": [],
   "source": [
    "nums = [1,2,3,4]\n",
    "'-'.join(str(nums)"
   ]
  },
  {
   "cell_type": "code",
   "execution_count": null,
   "metadata": {
    "collapsed": false
   },
   "outputs": [],
   "source": [
    "nums = [1,2,3,4]\n",
    "'-'.join(str(nums))"
   ]
  },
  {
   "cell_type": "code",
   "execution_count": null,
   "metadata": {
    "collapsed": false
   },
   "outputs": [],
   "source": [
    "#Q5\n",
    "nums = [1,2,3,4]\n",
    "'-'.join(str(i) for i in nums)"
   ]
  },
  {
   "cell_type": "markdown",
   "metadata": {},
   "source": [
    "Q6 - The map function takes in a function and a list and applys the function to every item in the list. \n",
    "\n",
    "Q7 - \n",
    "\n",
    "Q8 - To force a map to use values put it through a for loop or use the list function.\n",
    "\n",
    "Q9 - Using the 'with' command it cuts back on the amount of code required when doing file io. It opens and reads the file in one line whereas before it required multiple lines before with the open, read and exit commands. \n",
    "\n",
    "Q10 - \n",
    "\n",
    "Q11 - The output produced are the ascii values for each item in the file. "
   ]
  },
  {
   "cell_type": "code",
   "execution_count": null,
   "metadata": {
    "collapsed": false
   },
   "outputs": [],
   "source": [
    "for item in map(str, nums):\n",
    "    print(item)"
   ]
  },
  {
   "cell_type": "code",
   "execution_count": null,
   "metadata": {
    "collapsed": false
   },
   "outputs": [],
   "source": [
    "x = 'A'\n",
    "print(x)\n",
    "print(ord(x))"
   ]
  },
  {
   "cell_type": "code",
   "execution_count": null,
   "metadata": {
    "collapsed": false
   },
   "outputs": [],
   "source": [
    "y = 40\n",
    "print(y)\n",
    "print(chr(y))"
   ]
  },
  {
   "cell_type": "code",
   "execution_count": null,
   "metadata": {
    "collapsed": false
   },
   "outputs": [],
   "source": [
    "ascii_vals = [115, 111, 102, 116, 119, 97, 114, 101]\n",
    "for i in ascii_vals:\n",
    "    print(chr(i), end='')"
   ]
  },
  {
   "cell_type": "code",
   "execution_count": null,
   "metadata": {
    "collapsed": false
   },
   "outputs": [],
   "source": [
    "string = 'something'\n",
    "for i in string:\n",
    "    print(ord(i))"
   ]
  },
  {
   "cell_type": "code",
   "execution_count": null,
   "metadata": {
    "collapsed": false
   },
   "outputs": [],
   "source": [
    "[ord(i) for i in \"what's this?\"]"
   ]
  },
  {
   "cell_type": "code",
   "execution_count": null,
   "metadata": {
    "collapsed": false
   },
   "outputs": [],
   "source": [
    "ascii_vals = [119, 104, 97, 116, 39, 115, 32, 116, 104, 105, 115, 63]\n",
    "for i in ascii_vals:\n",
    "    print(chr(i), end='')"
   ]
  },
  {
   "cell_type": "code",
   "execution_count": null,
   "metadata": {
    "collapsed": false
   },
   "outputs": [],
   "source": [
    "ascii_vals = [119, 104, 97, 116, 39, 115, 32, 116, 104, 105, 115, 63]\n",
    "for i in ascii_vals:\n",
    "    words = (chr(i), end='')\n",
    "    print(words)"
   ]
  },
  {
   "cell_type": "code",
   "execution_count": null,
   "metadata": {
    "collapsed": false
   },
   "outputs": [],
   "source": [
    "ascii_vals = [119, 104, 97, 116, 39, 115, 32, 116, 104, 105, 115, 63]\n",
    "for i in ascii_vals:\n",
    "    words = (chr(i))\n",
    "    print(words)"
   ]
  },
  {
   "cell_type": "code",
   "execution_count": null,
   "metadata": {
    "collapsed": true
   },
   "outputs": [],
   "source": [
    "ascii_vals = [119, 104, 97, 116, 39, 115, 32, 116, 104, 105, 115, 63]\n",
    "for i in ascii_vals:\n",
    "    words = (chr(i))\n",
    "    ''.join(words)"
   ]
  },
  {
   "cell_type": "code",
   "execution_count": null,
   "metadata": {
    "collapsed": true
   },
   "outputs": [],
   "source": [
    "ascii_vals = [119, 104, 97, 116, 39, 115, 32, 116, 104, 105, 115, 63]\n",
    "for i in ascii_vals:\n",
    "    words = (chr(i))\n",
    "    sentence = ''.join(words)"
   ]
  },
  {
   "cell_type": "code",
   "execution_count": null,
   "metadata": {
    "collapsed": false
   },
   "outputs": [],
   "source": [
    "ascii_vals = [119, 104, 97, 116, 39, 115, 32, 116, 104, 105, 115, 63]\n",
    "for i in ascii_vals:\n",
    "    words = (chr(i))\n",
    "    sentence = ''.join(words)\n",
    "    print(sentence)"
   ]
  },
  {
   "cell_type": "code",
   "execution_count": null,
   "metadata": {
    "collapsed": false
   },
   "outputs": [],
   "source": [
    "ascii_vals = [119, 104, 97, 116, 39, 115, 32, 116, 104, 105, 115, 63]\n",
    "for i in ascii_vals:\n",
    "    words = (chr(i))\n",
    "    sentence = '\\n'.join(words)\n",
    "    print(sentence)"
   ]
  },
  {
   "cell_type": "code",
   "execution_count": null,
   "metadata": {
    "collapsed": false
   },
   "outputs": [],
   "source": [
    "ascii_vals = [119, 104, 97, 116, 39, 115, 32, 116, 104, 105, 115, 63]\n",
    "\n",
    "for i in ascii_vals:\n",
    "    words = (chr(i))\n",
    "    sentence += words\n",
    "    print(sentence)"
   ]
  },
  {
   "cell_type": "code",
   "execution_count": 1,
   "metadata": {
    "collapsed": false
   },
   "outputs": [
    {
     "name": "stdout",
     "output_type": "stream",
     "text": [
      "what's this?\n"
     ]
    }
   ],
   "source": [
    "ascii_vals = [119, 104, 97, 116, 39, 115, 32, 116, 104, 105, 115, 63]\n",
    "sentence = ''\n",
    "for i in ascii_vals:\n",
    "    words = (chr(i))\n",
    "    sentence += words\n",
    "print(sentence)"
   ]
  },
  {
   "cell_type": "code",
   "execution_count": 2,
   "metadata": {
    "collapsed": false
   },
   "outputs": [
    {
     "name": "stdout",
     "output_type": "stream",
     "text": [
      "[\"what's\", 'this?']\n"
     ]
    }
   ],
   "source": [
    "ascii_vals = [119, 104, 97, 116, 39, 115, 32, 116, 104, 105, 115, 63]\n",
    "sentence = ''\n",
    "for i in ascii_vals:\n",
    "    words = (chr(i))\n",
    "    sentence += words\n",
    "print(sentence.split())"
   ]
  },
  {
   "cell_type": "code",
   "execution_count": 3,
   "metadata": {
    "collapsed": false
   },
   "outputs": [
    {
     "name": "stdout",
     "output_type": "stream",
     "text": [
      "what's\n",
      "this?\n"
     ]
    }
   ],
   "source": [
    "ascii_vals = [119, 104, 97, 116, 39, 115, 32, 116, 104, 105, 115, 63]\n",
    "sentence = ''\n",
    "for i in ascii_vals:\n",
    "    words = (chr(i))\n",
    "    sentence += words\n",
    "print(sentence.replace(' ', '\\n'))"
   ]
  },
  {
   "cell_type": "code",
   "execution_count": 4,
   "metadata": {
    "collapsed": false
   },
   "outputs": [
    {
     "name": "stdout",
     "output_type": "stream",
     "text": [
      "12\n",
      "11\n"
     ]
    }
   ],
   "source": [
    "line = \"What's this?\"\n",
    "print(len(line))\n",
    "print(len(line) - line.count(' '))"
   ]
  },
  {
   "cell_type": "code",
   "execution_count": 5,
   "metadata": {
    "collapsed": false
   },
   "outputs": [
    {
     "name": "stdout",
     "output_type": "stream",
     "text": [
      "11\n"
     ]
    }
   ],
   "source": [
    "line = \"What's this?\"\n",
    "count = 0\n",
    "for i in line:\n",
    "    if i != ' ':\n",
    "        count += 1\n",
    "    else:\n",
    "        continue\n",
    "print(count)"
   ]
  },
  {
   "cell_type": "code",
   "execution_count": 6,
   "metadata": {
    "collapsed": false
   },
   "outputs": [
    {
     "ename": "SyntaxError",
     "evalue": "can't assign to function call (<ipython-input-6-79877f54c338>, line 6)",
     "output_type": "error",
     "traceback": [
      "\u001b[0;36m  File \u001b[0;32m\"<ipython-input-6-79877f54c338>\"\u001b[0;36m, line \u001b[0;32m6\u001b[0m\n\u001b[0;31m    freq(letter) = freq.get(letter, 0) + 1\u001b[0m\n\u001b[0m    ^\u001b[0m\n\u001b[0;31mSyntaxError\u001b[0m\u001b[0;31m:\u001b[0m can't assign to function call\n"
     ]
    }
   ],
   "source": [
    "string = \"What's this?\"\n",
    "\n",
    "freq = {}\n",
    "\n",
    "for letter in string:\n",
    "    freq(letter) = freq.get(letter, 0) + 1\n",
    "\n",
    "print(freq)"
   ]
  },
  {
   "cell_type": "code",
   "execution_count": 7,
   "metadata": {
    "collapsed": false
   },
   "outputs": [
    {
     "name": "stdout",
     "output_type": "stream",
     "text": [
      "{' ': 1, 'W': 1, 'h': 2, \"'\": 1, 't': 2, 's': 2, 'i': 1, '?': 1, 'a': 1}\n"
     ]
    }
   ],
   "source": [
    "string = \"What's this?\"\n",
    "\n",
    "freq = {}\n",
    "\n",
    "for letter in string:\n",
    "    freq[letter] = freq.get(letter, 0) + 1\n",
    "\n",
    "print(freq)"
   ]
  },
  {
   "cell_type": "code",
   "execution_count": null,
   "metadata": {
    "collapsed": true
   },
   "outputs": [],
   "source": []
  }
 ],
 "metadata": {
  "anaconda-cloud": {},
  "kernelspec": {
   "display_name": "Python [default]",
   "language": "python",
   "name": "python3"
  },
  "language_info": {
   "codemirror_mode": {
    "name": "ipython",
    "version": 3
   },
   "file_extension": ".py",
   "mimetype": "text/x-python",
   "name": "python",
   "nbconvert_exporter": "python",
   "pygments_lexer": "ipython3",
   "version": "3.5.2"
  }
 },
 "nbformat": 4,
 "nbformat_minor": 0
}
