{
 "cells": [
  {
   "cell_type": "code",
   "execution_count": 1,
   "metadata": {
    "collapsed": false
   },
   "outputs": [
    {
     "name": "stdout",
     "output_type": "stream",
     "text": [
      "<_io.TextIOWrapper name='numbers.dat' mode='rt' encoding='cp1252'>\n"
     ]
    }
   ],
   "source": [
    "file = open(\"numbers.dat\", \"rt\")\n",
    "num = file.read()\n",
    "file.close()\n",
    "print(file)"
   ]
  },
  {
   "cell_type": "code",
   "execution_count": 2,
   "metadata": {
    "collapsed": false
   },
   "outputs": [
    {
     "name": "stdout",
     "output_type": "stream",
     "text": [
      "1, 2, 3\n",
      "4, 5, 6\n",
      "7, 8, 9\n",
      "10, 11, 12\n"
     ]
    }
   ],
   "source": [
    "file = open(\"numbers.dat\", \"rt\")\n",
    "num = file.read()\n",
    "file.close()\n",
    "print(num)"
   ]
  },
  {
   "cell_type": "code",
   "execution_count": 3,
   "metadata": {
    "collapsed": false
   },
   "outputs": [
    {
     "name": "stdout",
     "output_type": "stream",
     "text": [
      "1, 2, 3\n",
      "4, 5, 6\n",
      "7, 8, 9\n",
      "10, 11, 12\n"
     ]
    }
   ],
   "source": [
    "file = open(\"numbers.dat\", \"r\")\n",
    "num = file.read()\n",
    "file.close()\n",
    "print(num)"
   ]
  },
  {
   "cell_type": "code",
   "execution_count": 7,
   "metadata": {
    "collapsed": false
   },
   "outputs": [
    {
     "name": "stdout",
     "output_type": "stream",
     "text": [
      "1, 2, 3\n",
      "\n",
      "4, 5, 6\n",
      "\n",
      "7, 8, 9\n",
      "\n",
      "10, 11, 12\n"
     ]
    }
   ],
   "source": [
    "with open(\"numbers.dat\", \"r\") as f:\n",
    "    for item in f:\n",
    "        print(item)"
   ]
  },
  {
   "cell_type": "code",
   "execution_count": 8,
   "metadata": {
    "collapsed": false
   },
   "outputs": [
    {
     "name": "stdout",
     "output_type": "stream",
     "text": [
      "1, 2, 3\n",
      "4, 5, 6\n",
      "7, 8, 9\n",
      "10, 11, 12"
     ]
    }
   ],
   "source": [
    "with open(\"numbers.dat\", \"r\") as f:\n",
    "    for item in f:\n",
    "        print(item, end = \"\")"
   ]
  },
  {
   "cell_type": "code",
   "execution_count": 10,
   "metadata": {
    "collapsed": false
   },
   "outputs": [
    {
     "name": "stdout",
     "output_type": "stream",
     "text": [
      "1, 2, 3\n",
      "4, 5, 6\n",
      "7, 8, 9\n",
      "10, 11, 12\n"
     ]
    }
   ],
   "source": [
    "with open(\"numbers.dat\", \"r\") as f:\n",
    "    for item in f:\n",
    "        print(item.strip('\\n'))"
   ]
  },
  {
   "cell_type": "code",
   "execution_count": null,
   "metadata": {
    "collapsed": true
   },
   "outputs": [],
   "source": [
    "#f.read()\n",
    "#f.readline()\n",
    "#f.readlines()"
   ]
  },
  {
   "cell_type": "code",
   "execution_count": 14,
   "metadata": {
    "collapsed": false
   },
   "outputs": [],
   "source": [
    "i=0\n",
    "with open(\"numbers.dat\", \"r\") as f:\n",
    "    for item in f.readline(i):\n",
    "        print(item)\n",
    "        i+=i"
   ]
  },
  {
   "cell_type": "code",
   "execution_count": 15,
   "metadata": {
    "collapsed": false
   },
   "outputs": [
    {
     "name": "stdout",
     "output_type": "stream",
     "text": [
      "1\n",
      ",\n",
      " \n",
      "2\n",
      ",\n",
      " \n",
      "3\n",
      "\n",
      "\n",
      "4\n",
      ",\n",
      " \n",
      "5\n",
      ",\n",
      " \n",
      "6\n",
      "\n",
      "\n",
      "7\n",
      ",\n",
      " \n",
      "8\n",
      ",\n",
      " \n",
      "9\n",
      "\n",
      "\n",
      "1\n",
      "0\n",
      ",\n",
      " \n",
      "1\n",
      "1\n",
      ",\n",
      " \n",
      "1\n",
      "2\n"
     ]
    }
   ],
   "source": [
    "with open(\"numbers.dat\", \"r\") as f:\n",
    "    for item in f.read():\n",
    "        print(item)"
   ]
  },
  {
   "cell_type": "code",
   "execution_count": 16,
   "metadata": {
    "collapsed": false
   },
   "outputs": [
    {
     "name": "stdout",
     "output_type": "stream",
     "text": [
      "1, 2, 3\n",
      "\n",
      "4, 5, 6\n",
      "\n",
      "7, 8, 9\n",
      "\n",
      "10, 11, 12\n"
     ]
    }
   ],
   "source": [
    "with open(\"numbers.dat\", \"r\") as f:\n",
    "    for item in f.readlines():\n",
    "        print(item)"
   ]
  },
  {
   "cell_type": "code",
   "execution_count": 17,
   "metadata": {
    "collapsed": false
   },
   "outputs": [
    {
     "name": "stdout",
     "output_type": "stream",
     "text": [
      "1 + 2 + 3\n",
      "\n",
      "4 + 5 + 6\n",
      "\n",
      "7 + 8 + 9\n",
      "\n",
      "10 + 11 + 12\n"
     ]
    }
   ],
   "source": [
    "with open(\"numbers.dat\", \"r\") as f:\n",
    "    for item in f.readlines():\n",
    "        print(item.replace(\",\", \" +\"))"
   ]
  },
  {
   "cell_type": "code",
   "execution_count": 19,
   "metadata": {
    "collapsed": false
   },
   "outputs": [
    {
     "name": "stdout",
     "output_type": "stream",
     "text": [
      "1\n",
      ",\n",
      " \n",
      "2\n",
      ",\n",
      " \n",
      "3\n",
      "\n",
      "\n",
      "4\n",
      ",\n",
      " \n",
      "5\n",
      ",\n",
      " \n",
      "6\n",
      "\n",
      "\n",
      "7\n",
      ",\n",
      " \n",
      "8\n",
      ",\n",
      " \n",
      "9\n",
      "\n",
      "\n",
      "1\n",
      "0\n",
      ",\n",
      " \n",
      "1\n",
      "1\n",
      ",\n",
      " \n",
      "1\n",
      "2\n"
     ]
    }
   ],
   "source": [
    "with open(\"numbers.dat\", \"r\") as f:\n",
    "    for item in f.readlines():\n",
    "        for i in item:\n",
    "            print(i)"
   ]
  },
  {
   "cell_type": "code",
   "execution_count": 20,
   "metadata": {
    "collapsed": false
   },
   "outputs": [
    {
     "name": "stdout",
     "output_type": "stream",
     "text": [
      "1, 2, 3\n",
      "\n",
      "1\n",
      ",\n",
      " \n",
      "2\n",
      ",\n",
      " \n",
      "3\n",
      "\n",
      "\n",
      "4, 5, 6\n",
      "\n",
      "4\n",
      ",\n",
      " \n",
      "5\n",
      ",\n",
      " \n",
      "6\n",
      "\n",
      "\n",
      "7, 8, 9\n",
      "\n",
      "7\n",
      ",\n",
      " \n",
      "8\n",
      ",\n",
      " \n",
      "9\n",
      "\n",
      "\n",
      "10, 11, 12\n",
      "1\n",
      "0\n",
      ",\n",
      " \n",
      "1\n",
      "1\n",
      ",\n",
      " \n",
      "1\n",
      "2\n"
     ]
    }
   ],
   "source": [
    "with open(\"numbers.dat\", \"r\") as f:\n",
    "    for item in f.readlines():\n",
    "        item.replace(\",\", \" \")\n",
    "        print(item)\n",
    "        for i in item:\n",
    "            print(i)"
   ]
  },
  {
   "cell_type": "code",
   "execution_count": 23,
   "metadata": {
    "collapsed": false
   },
   "outputs": [
    {
     "ename": "ValueError",
     "evalue": "invalid literal for int() with base 10: '1, 2, 3\\n'",
     "output_type": "error",
     "traceback": [
      "\u001b[1;31m---------------------------------------------------------------------------\u001b[0m",
      "\u001b[1;31mValueError\u001b[0m                                Traceback (most recent call last)",
      "\u001b[1;32m<ipython-input-23-23d7b6cafb27>\u001b[0m in \u001b[0;36m<module>\u001b[1;34m()\u001b[0m\n\u001b[0;32m      1\u001b[0m \u001b[1;32mwith\u001b[0m \u001b[0mopen\u001b[0m\u001b[1;33m(\u001b[0m\u001b[1;34m\"numbers.dat\"\u001b[0m\u001b[1;33m,\u001b[0m \u001b[1;34m\"r\"\u001b[0m\u001b[1;33m)\u001b[0m \u001b[1;32mas\u001b[0m \u001b[0mf\u001b[0m\u001b[1;33m:\u001b[0m\u001b[1;33m\u001b[0m\u001b[0m\n\u001b[0;32m      2\u001b[0m     \u001b[1;32mfor\u001b[0m \u001b[0mitem\u001b[0m \u001b[1;32min\u001b[0m \u001b[0mf\u001b[0m\u001b[1;33m.\u001b[0m\u001b[0mreadlines\u001b[0m\u001b[1;33m(\u001b[0m\u001b[1;33m)\u001b[0m\u001b[1;33m:\u001b[0m\u001b[1;33m\u001b[0m\u001b[0m\n\u001b[1;32m----> 3\u001b[1;33m         \u001b[0mitem\u001b[0m \u001b[1;33m=\u001b[0m \u001b[0mint\u001b[0m\u001b[1;33m(\u001b[0m\u001b[0mitem\u001b[0m\u001b[1;33m)\u001b[0m\u001b[1;33m\u001b[0m\u001b[0m\n\u001b[0m",
      "\u001b[1;31mValueError\u001b[0m: invalid literal for int() with base 10: '1, 2, 3\\n'"
     ]
    }
   ],
   "source": [
    "with open(\"numbers.dat\", \"r\") as f:\n",
    "    for item in f.readlines():\n",
    "        item = int(item)"
   ]
  },
  {
   "cell_type": "code",
   "execution_count": 24,
   "metadata": {
    "collapsed": false
   },
   "outputs": [
    {
     "ename": "ValueError",
     "evalue": "invalid literal for int() with base 10: '1, 2, 3\\n'",
     "output_type": "error",
     "traceback": [
      "\u001b[1;31m---------------------------------------------------------------------------\u001b[0m",
      "\u001b[1;31mValueError\u001b[0m                                Traceback (most recent call last)",
      "\u001b[1;32m<ipython-input-24-ca8a36708553>\u001b[0m in \u001b[0;36m<module>\u001b[1;34m()\u001b[0m\n\u001b[0;32m      2\u001b[0m \u001b[1;32mwith\u001b[0m \u001b[0mopen\u001b[0m\u001b[1;33m(\u001b[0m\u001b[1;34m\"numbers.dat\"\u001b[0m\u001b[1;33m,\u001b[0m \u001b[1;34m\"r\"\u001b[0m\u001b[1;33m)\u001b[0m \u001b[1;32mas\u001b[0m \u001b[0mf\u001b[0m\u001b[1;33m:\u001b[0m\u001b[1;33m\u001b[0m\u001b[0m\n\u001b[0;32m      3\u001b[0m     \u001b[1;32mfor\u001b[0m \u001b[0mitem\u001b[0m \u001b[1;32min\u001b[0m \u001b[0mf\u001b[0m\u001b[1;33m.\u001b[0m\u001b[0mreadlines\u001b[0m\u001b[1;33m(\u001b[0m\u001b[1;33m)\u001b[0m\u001b[1;33m:\u001b[0m\u001b[1;33m\u001b[0m\u001b[0m\n\u001b[1;32m----> 4\u001b[1;33m         \u001b[0mi\u001b[0m \u001b[1;33m+=\u001b[0m \u001b[0mint\u001b[0m\u001b[1;33m(\u001b[0m\u001b[0mitem\u001b[0m\u001b[1;33m)\u001b[0m\u001b[1;33m\u001b[0m\u001b[0m\n\u001b[0m",
      "\u001b[1;31mValueError\u001b[0m: invalid literal for int() with base 10: '1, 2, 3\\n'"
     ]
    }
   ],
   "source": [
    "i = 0\n",
    "with open(\"numbers.dat\", \"r\") as f:\n",
    "    for item in f.readlines():\n",
    "        i += int(item)"
   ]
  },
  {
   "cell_type": "code",
   "execution_count": 25,
   "metadata": {
    "collapsed": false
   },
   "outputs": [
    {
     "name": "stdout",
     "output_type": "stream",
     "text": [
      "1, 2, 3\n",
      "\n",
      "4, 5, 6\n",
      "\n",
      "7, 8, 9\n",
      "\n",
      "10, 11, 12\n"
     ]
    }
   ],
   "source": [
    "i = 0\n",
    "with open(\"numbers.dat\", \"r\") as f:\n",
    "    for item in f.readlines():\n",
    "        print(item)"
   ]
  },
  {
   "cell_type": "code",
   "execution_count": 27,
   "metadata": {
    "collapsed": false
   },
   "outputs": [
    {
     "name": "stdout",
     "output_type": "stream",
     "text": [
      "['1', ' 2', ' 3']\n",
      "['4', ' 5', ' 6']\n",
      "['7', ' 8', ' 9']\n",
      "['10', ' 11', ' 12']\n"
     ]
    }
   ],
   "source": [
    "i = 0\n",
    "with open(\"numbers.dat\", \"r\") as f:\n",
    "    for item in f.readlines():\n",
    "        print(item.strip().split(\",\"))"
   ]
  },
  {
   "cell_type": "code",
   "execution_count": 42,
   "metadata": {
    "collapsed": false
   },
   "outputs": [
    {
     "name": "stdout",
     "output_type": "stream",
     "text": [
      "6\n",
      "15\n",
      "24\n",
      "33\n"
     ]
    }
   ],
   "source": [
    "result = 0\n",
    "with open(\"numbers.dat\", \"r\") as f:\n",
    "    for item in f.readlines():\n",
    "        numbers = item.strip().split(\",\")\n",
    "        for num in numbers:\n",
    "            result += int(num)\n",
    "        print(result)\n",
    "        result = 0"
   ]
  },
  {
   "cell_type": "code",
   "execution_count": 43,
   "metadata": {
    "collapsed": false
   },
   "outputs": [
    {
     "name": "stdout",
     "output_type": "stream",
     "text": [
      "2\n",
      "4\n",
      "6\n",
      "8\n"
     ]
    }
   ],
   "source": [
    "def double(n):\n",
    "    return(n * 2)\n",
    "\n",
    "nums = [1, 2, 3, 4]\n",
    "\n",
    "for item in map(double, nums):\n",
    "    print(item)"
   ]
  },
  {
   "cell_type": "code",
   "execution_count": 44,
   "metadata": {
    "collapsed": false
   },
   "outputs": [
    {
     "data": {
      "text/plain": [
       "['6', '8', '11', '2']"
      ]
     },
     "execution_count": 44,
     "metadata": {},
     "output_type": "execute_result"
    }
   ],
   "source": [
    "numlike = ['6', '8', '11', '2']\n",
    "numlike"
   ]
  },
  {
   "cell_type": "code",
   "execution_count": 45,
   "metadata": {
    "collapsed": false
   },
   "outputs": [
    {
     "data": {
      "text/plain": [
       "[6, 8, 11, 2]"
      ]
     },
     "execution_count": 45,
     "metadata": {},
     "output_type": "execute_result"
    }
   ],
   "source": [
    "list(map(int, numlike))"
   ]
  },
  {
   "cell_type": "code",
   "execution_count": 46,
   "metadata": {
    "collapsed": false
   },
   "outputs": [
    {
     "name": "stdout",
     "output_type": "stream",
     "text": [
      "[6, 15, 24, 33]\n"
     ]
    }
   ],
   "source": [
    "result = 0\n",
    "totals = []\n",
    "with open(\"numbers.dat\", \"r\") as f:\n",
    "    for item in f.readlines():\n",
    "        numbers = item.strip().split(\",\")\n",
    "        intgrs = list(map(int, numbers))\n",
    "        totals.append(sum(intgrs))\n",
    "print(totals)"
   ]
  },
  {
   "cell_type": "code",
   "execution_count": 50,
   "metadata": {
    "collapsed": false
   },
   "outputs": [
    {
     "name": "stdout",
     "output_type": "stream",
     "text": [
      "[6, 15, 24, 33]\n"
     ]
    }
   ],
   "source": [
    "totals = []\n",
    "\n",
    "with open(\"numbers.dat\", \"r\") as f:\n",
    "    for line in f.readlines():\n",
    "        numbers = line.strip().split(\",\")\n",
    "        totals.append(sum(map(int, numbers)))\n",
    "print(totals)"
   ]
  },
  {
   "cell_type": "code",
   "execution_count": null,
   "metadata": {
    "collapsed": true
   },
   "outputs": [],
   "source": []
  }
 ],
 "metadata": {
  "kernelspec": {
   "display_name": "Python 3",
   "language": "python",
   "name": "python3"
  },
  "language_info": {
   "codemirror_mode": {
    "name": "ipython",
    "version": 3
   },
   "file_extension": ".py",
   "mimetype": "text/x-python",
   "name": "python",
   "nbconvert_exporter": "python",
   "pygments_lexer": "ipython3",
   "version": "3.5.1"
  }
 },
 "nbformat": 4,
 "nbformat_minor": 0
}
