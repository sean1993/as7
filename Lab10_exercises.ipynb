{
 "cells": [
  {
   "cell_type": "markdown",
   "metadata": {},
   "source": [
    "### Exercises"
   ]
  },
  {
   "cell_type": "code",
   "execution_count": null,
   "metadata": {
    "collapsed": true
   },
   "outputs": [],
   "source": [
    "# Please run this notebook from linux or cygwin"
   ]
  },
  {
   "cell_type": "markdown",
   "metadata": {},
   "source": [
    "1. Write code to create a list of numbers and iterate over the numbers.\n",
    "2. Write code to iterate over a string, displaying each character.\n",
    "3. Create a multiline string and display the string, removing white spaces and newlines.\n",
    "4. Using '-'.join(), display the word hello with a dash between each two letters.\n",
    "5. Why can't you do the same thing with '-'.join[1,2,3,4]. What would you do to get it to display \"1-2-3-4\"\n",
    "6. What is the purpose of the map function?\n",
    "7. Why doesn't the map function produce values?\n",
    "8. How do you force a map to produce values?\n",
    "9. What is the benefit of opening a file inside the 'with' context/statement?\n",
    "10. What happens when you open a text file in binary mode?\n",
    "11. Run the next two cells and explain the output that is produced. "
   ]
  },
  {
   "cell_type": "code",
   "execution_count": 3,
   "metadata": {
    "collapsed": false
   },
   "outputs": [],
   "source": [
    "%%bash\n",
    "cat << \"EOF\" > file.dat\n",
    "1,2,3\n",
    "4,5,6\n",
    "7,8,9\n",
    "EOF"
   ]
  },
  {
   "cell_type": "code",
   "execution_count": 7,
   "metadata": {
    "collapsed": false
   },
   "outputs": [
    {
     "name": "stdout",
     "output_type": "stream",
     "text": [
      "49 44 50 44 51 10 \n",
      "1,2,3\n",
      "52 44 53 44 54 10 \n",
      "4,5,6\n",
      "55 44 56 44 57 10 \n",
      "7,8,9\n"
     ]
    }
   ],
   "source": [
    "with open(\"file.dat\", \"rb\") as f:\n",
    "    for item in f:\n",
    "        for value in item:\n",
    "            print(value, end=' ')\n",
    "        print()\n",
    "        print(item.decode(\"utf-8\"), end='')"
   ]
  },
  {
   "cell_type": "markdown",
   "metadata": {},
   "source": [
    "12. Give an example of converting a character to its ascii value.\n",
    "13. Give an example of converting an ascii value to a character.\n",
    "13. 115 111 102 116 119 97 114 101             ?\n",
    "14. Iterate over the following: b\"something\"\n",
    "15. Explain the output of the next few cells "
   ]
  },
  {
   "cell_type": "code",
   "execution_count": 8,
   "metadata": {
    "collapsed": true
   },
   "outputs": [],
   "source": [
    "word='''Here is some \n",
    "some\n",
    "stuff\n",
    "in\n",
    "a file\n",
    "'''"
   ]
  },
  {
   "cell_type": "code",
   "execution_count": 9,
   "metadata": {
    "collapsed": false
   },
   "outputs": [
    {
     "name": "stdout",
     "output_type": "stream",
     "text": [
      "Here is some somestuffina file"
     ]
    }
   ],
   "source": [
    "for letter in word:\n",
    "    print(letter.strip('\\n'),end='')"
   ]
  },
  {
   "cell_type": "code",
   "execution_count": 10,
   "metadata": {
    "collapsed": false
   },
   "outputs": [
    {
     "name": "stdout",
     "output_type": "stream",
     "text": [
      "Here is some \n",
      "some\n",
      "stuff\n",
      "in\n",
      "a file"
     ]
    }
   ],
   "source": [
    "print(word.strip('\\n'),end='')"
   ]
  },
  {
   "cell_type": "code",
   "execution_count": 11,
   "metadata": {
    "collapsed": false
   },
   "outputs": [
    {
     "name": "stdout",
     "output_type": "stream",
     "text": [
      "Here is some \n",
      "some\n",
      "stuff\n",
      "in\n",
      "a file"
     ]
    }
   ],
   "source": [
    "print(word.strip(),end='')"
   ]
  },
  {
   "cell_type": "code",
   "execution_count": 12,
   "metadata": {
    "collapsed": false
   },
   "outputs": [
    {
     "name": "stdout",
     "output_type": "stream",
     "text": [
      "Here is some \n",
      "some\n",
      "stuff\n",
      "in\n",
      "a file\n"
     ]
    }
   ],
   "source": [
    "print(word.strip())"
   ]
  },
  {
   "cell_type": "code",
   "execution_count": 13,
   "metadata": {
    "collapsed": false
   },
   "outputs": [
    {
     "name": "stdout",
     "output_type": "stream",
     "text": [
      "Hereissomesomestuffinafile"
     ]
    }
   ],
   "source": [
    "for letter in word:\n",
    "    print(letter.strip(),end='')"
   ]
  },
  {
   "cell_type": "code",
   "execution_count": 14,
   "metadata": {
    "collapsed": false
   },
   "outputs": [
    {
     "data": {
      "text/plain": [
       "[119, 104, 97, 116, 39, 115, 32, 116, 104, 105, 115, 63]"
      ]
     },
     "execution_count": 14,
     "metadata": {},
     "output_type": "execute_result"
    }
   ],
   "source": [
    "[ord(i) for i in \"what's this?\"]"
   ]
  },
  {
   "cell_type": "markdown",
   "metadata": {},
   "source": [
    "1. Display the words of this sentence on separate lines\n",
    "2. Count the number of non-whitespace letters\n",
    "3. Find the frequency of letters in the sentence"
   ]
  },
  {
   "cell_type": "code",
   "execution_count": null,
   "metadata": {
    "collapsed": true
   },
   "outputs": [],
   "source": [
    "sentence = \"Here are some words\""
   ]
  },
  {
   "cell_type": "code",
   "execution_count": null,
   "metadata": {
    "collapsed": true
   },
   "outputs": [],
   "source": []
  }
 ],
 "metadata": {
  "kernelspec": {
   "display_name": "Python 3",
   "language": "python",
   "name": "python3"
  },
  "language_info": {
   "codemirror_mode": {
    "name": "ipython",
    "version": 3
   },
   "file_extension": ".py",
   "mimetype": "text/x-python",
   "name": "python",
   "nbconvert_exporter": "python",
   "pygments_lexer": "ipython3",
   "version": "3.5.1"
  }
 },
 "nbformat": 4,
 "nbformat_minor": 0
}
