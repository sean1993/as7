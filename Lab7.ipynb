{
 "cells": [
  {
   "cell_type": "code",
   "execution_count": null,
   "metadata": {
    "collapsed": true
   },
   "outputs": [],
   "source": [
    "class Animal():\n",
    "    def __init__(self, sound):\n",
    "        self.sound = sound\n",
    "    \n",
    "    def speak(self):\n",
    "        return sound"
   ]
  },
  {
   "cell_type": "code",
   "execution_count": null,
   "metadata": {
    "collapsed": false
   },
   "outputs": [],
   "source": [
    "speak(\"Bark\")"
   ]
  },
  {
   "cell_type": "code",
   "execution_count": null,
   "metadata": {
    "collapsed": true
   },
   "outputs": [],
   "source": [
    "a1 = Animal(\"Bark\")"
   ]
  },
  {
   "cell_type": "code",
   "execution_count": null,
   "metadata": {
    "collapsed": true
   },
   "outputs": [],
   "source": [
    "class Animal():\n",
    "    def __init__(self, sound):\n",
    "        self.sound = sound\n",
    "    \n",
    "    def speak(self):\n",
    "        return self.sound"
   ]
  },
  {
   "cell_type": "code",
   "execution_count": null,
   "metadata": {
    "collapsed": true
   },
   "outputs": [],
   "source": [
    "a1 = Animal(\"Bark\")"
   ]
  },
  {
   "cell_type": "code",
   "execution_count": null,
   "metadata": {
    "collapsed": false
   },
   "outputs": [],
   "source": [
    "print(a1)"
   ]
  },
  {
   "cell_type": "code",
   "execution_count": null,
   "metadata": {
    "collapsed": false
   },
   "outputs": [],
   "source": [
    "al.speak"
   ]
  },
  {
   "cell_type": "code",
   "execution_count": null,
   "metadata": {
    "collapsed": false
   },
   "outputs": [],
   "source": [
    "a1.speak"
   ]
  },
  {
   "cell_type": "code",
   "execution_count": null,
   "metadata": {
    "collapsed": false
   },
   "outputs": [],
   "source": [
    "a1.speak()"
   ]
  },
  {
   "cell_type": "code",
   "execution_count": null,
   "metadata": {
    "collapsed": true
   },
   "outputs": [],
   "source": [
    "class Animal():\n",
    "    def __init__(self, sound):\n",
    "        self.sound = sound\n",
    "    \n",
    "    def speak(self):\n",
    "        for i in range(3):\n",
    "            return self.sound"
   ]
  },
  {
   "cell_type": "code",
   "execution_count": null,
   "metadata": {
    "collapsed": true
   },
   "outputs": [],
   "source": [
    "a2 = Animal(\"Woof\")"
   ]
  },
  {
   "cell_type": "code",
   "execution_count": null,
   "metadata": {
    "collapsed": false
   },
   "outputs": [],
   "source": [
    "a2.speak()"
   ]
  },
  {
   "cell_type": "code",
   "execution_count": null,
   "metadata": {
    "collapsed": true
   },
   "outputs": [],
   "source": [
    "class Animal():\n",
    "    def __init__(self, sound):\n",
    "        self.sound = sound\n",
    "    \n",
    "    def speak(self):\n",
    "        return (self.sound * 3)"
   ]
  },
  {
   "cell_type": "code",
   "execution_count": null,
   "metadata": {
    "collapsed": false
   },
   "outputs": [],
   "source": [
    "a2.speak()"
   ]
  },
  {
   "cell_type": "code",
   "execution_count": null,
   "metadata": {
    "collapsed": true
   },
   "outputs": [],
   "source": [
    "class Animal():\n",
    "    def __init__(self, sound):\n",
    "        self.sound = sound\n",
    "        i=0\n",
    "    \n",
    "    def speak(self):\n",
    "        while i < 3:\n",
    "            i+=1\n",
    "            return self.sound            "
   ]
  },
  {
   "cell_type": "code",
   "execution_count": null,
   "metadata": {
    "collapsed": false
   },
   "outputs": [],
   "source": [
    "a2.speak()"
   ]
  },
  {
   "cell_type": "code",
   "execution_count": null,
   "metadata": {
    "collapsed": false
   },
   "outputs": [],
   "source": [
    "a2.speak()\n",
    "a2.speak()\n",
    "a2.speak()\n",
    "a2.speak()"
   ]
  },
  {
   "cell_type": "code",
   "execution_count": null,
   "metadata": {
    "collapsed": true
   },
   "outputs": [],
   "source": [
    "class Animal():\n",
    "    def __init__(self, sound):\n",
    "        self.sound = sound\n",
    "    \n",
    "    def speak(self):\n",
    "        i=0\n",
    "        if(i < 3):\n",
    "            i+1\n",
    "            return self.sound\n",
    "        else:\n",
    "            return(\"Can't speak anymore!\")            "
   ]
  },
  {
   "cell_type": "code",
   "execution_count": null,
   "metadata": {
    "collapsed": true
   },
   "outputs": [],
   "source": [
    "a2 = Animal(\"Woof\")"
   ]
  },
  {
   "cell_type": "code",
   "execution_count": null,
   "metadata": {
    "collapsed": false
   },
   "outputs": [],
   "source": [
    "a2.speak()"
   ]
  },
  {
   "cell_type": "code",
   "execution_count": null,
   "metadata": {
    "collapsed": false
   },
   "outputs": [],
   "source": [
    "a2.speak()"
   ]
  },
  {
   "cell_type": "code",
   "execution_count": null,
   "metadata": {
    "collapsed": false
   },
   "outputs": [],
   "source": [
    "a2.speak()"
   ]
  },
  {
   "cell_type": "code",
   "execution_count": null,
   "metadata": {
    "collapsed": false
   },
   "outputs": [],
   "source": [
    "a2.speak()"
   ]
  },
  {
   "cell_type": "code",
   "execution_count": null,
   "metadata": {
    "collapsed": false
   },
   "outputs": [],
   "source": [
    "a2.speak()\n",
    "a2.speak()\n",
    "a2.speak()\n",
    "a2.speak()"
   ]
  },
  {
   "cell_type": "code",
   "execution_count": null,
   "metadata": {
    "collapsed": false
   },
   "outputs": [],
   "source": [
    "class Animal():\n",
    "    def __init__(self, sound):\n",
    "        self.sound = sound\n",
    "        i=0\n",
    "    \n",
    "    def speak(self):        \n",
    "        if (i < 3):\n",
    "            i+=1\n",
    "            return self.sound\n",
    "\n",
    "dog = Animal(\"Woof\")\n",
    "dog.speak()\n",
    "dog.speak()\n",
    "dog.speak()\n",
    "dog.speak()"
   ]
  },
  {
   "cell_type": "code",
   "execution_count": null,
   "metadata": {
    "collapsed": false
   },
   "outputs": [],
   "source": [
    "class Animal():\n",
    "    def __init__(self, sound):\n",
    "        self.sound = sound\n",
    "        self.i = 0\n",
    "    \n",
    "    def speak(self):        \n",
    "        if (self.i < 3):\n",
    "            self.i+=1\n",
    "            return self.sound\n",
    "        else:\n",
    "            return(\"Can't speak anymore!\")\n",
    "\n",
    "dog = Animal(\"Woof\")\n",
    "print(dog.speak())\n",
    "print(dog.speak())\n",
    "print(dog.speak())\n",
    "print(dog.speak())"
   ]
  },
  {
   "cell_type": "code",
   "execution_count": null,
   "metadata": {
    "collapsed": false
   },
   "outputs": [],
   "source": [
    "class Animal():\n",
    "    def __init__(self, sound):\n",
    "        self.sound = sound\n",
    "        self.i = 0\n",
    "    \n",
    "    def speak(self):        \n",
    "        if (self.i < 3):\n",
    "            self.i+=1\n",
    "            return self.sound\n",
    "        return(\"Can't speak anymore!\")\n",
    "\n",
    "dog = Animal(\"Woof\")\n",
    "print(dog.speak())\n",
    "print(dog.speak())\n",
    "print(dog.speak())\n",
    "print(dog.speak())"
   ]
  },
  {
   "cell_type": "code",
   "execution_count": null,
   "metadata": {
    "collapsed": true
   },
   "outputs": [],
   "source": []
  }
 ],
 "metadata": {
  "kernelspec": {
   "display_name": "Python 3",
   "language": "python",
   "name": "python3"
  },
  "language_info": {
   "codemirror_mode": {
    "name": "ipython",
    "version": 3
   },
   "file_extension": ".py",
   "mimetype": "text/x-python",
   "name": "python",
   "nbconvert_exporter": "python",
   "pygments_lexer": "ipython3",
   "version": "3.5.1"
  }
 },
 "nbformat": 4,
 "nbformat_minor": 0
}
