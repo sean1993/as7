{
 "cells": [
  {
   "cell_type": "markdown",
   "metadata": {},
   "source": [
    "Download Anaconda from [this link](https://www.continuum.io/downloads)"
   ]
  },
  {
   "cell_type": "code",
   "execution_count": 1,
   "metadata": {
    "collapsed": false
   },
   "outputs": [
    {
     "data": {
      "text/plain": [
       "2"
      ]
     },
     "execution_count": 1,
     "metadata": {},
     "output_type": "execute_result"
    }
   ],
   "source": [
    "# can we add two integers\n",
    "1+1"
   ]
  },
  {
   "cell_type": "code",
   "execution_count": 2,
   "metadata": {
    "collapsed": false
   },
   "outputs": [
    {
     "data": {
      "text/plain": [
       "10"
      ]
     },
     "execution_count": 2,
     "metadata": {},
     "output_type": "execute_result"
    }
   ],
   "source": [
    "2*5"
   ]
  },
  {
   "cell_type": "code",
   "execution_count": 3,
   "metadata": {
    "collapsed": false
   },
   "outputs": [
    {
     "data": {
      "text/plain": [
       "3.3333333333333335"
      ]
     },
     "execution_count": 3,
     "metadata": {},
     "output_type": "execute_result"
    }
   ],
   "source": [
    "# What does the / operator do?\n",
    "10/3"
   ]
  },
  {
   "cell_type": "code",
   "execution_count": 4,
   "metadata": {
    "collapsed": false
   },
   "outputs": [
    {
     "data": {
      "text/plain": [
       "3"
      ]
     },
     "execution_count": 4,
     "metadata": {},
     "output_type": "execute_result"
    }
   ],
   "source": [
    "# Here's how you force integer division\n",
    "10//3"
   ]
  },
  {
   "cell_type": "code",
   "execution_count": 5,
   "metadata": {
    "collapsed": false
   },
   "outputs": [
    {
     "data": {
      "text/plain": [
       "1"
      ]
     },
     "execution_count": 5,
     "metadata": {},
     "output_type": "execute_result"
    }
   ],
   "source": [
    "# What is the remainder of 10 divided by 3\n",
    "10 % 3"
   ]
  },
  {
   "cell_type": "code",
   "execution_count": 6,
   "metadata": {
    "collapsed": false
   },
   "outputs": [
    {
     "data": {
      "text/plain": [
       "'Hello there!'"
      ]
     },
     "execution_count": 6,
     "metadata": {},
     "output_type": "execute_result"
    }
   ],
   "source": [
    "# Can we use strings of text?\n",
    "\"Hello there!\""
   ]
  },
  {
   "cell_type": "code",
   "execution_count": 7,
   "metadata": {
    "collapsed": false
   },
   "outputs": [
    {
     "data": {
      "text/plain": [
       "('The sum is: ', 12)"
      ]
     },
     "execution_count": 7,
     "metadata": {},
     "output_type": "execute_result"
    }
   ],
   "source": [
    "# What happens when we join a string with a number?\n",
    "\"The sum is: \", 3*4"
   ]
  },
  {
   "cell_type": "code",
   "execution_count": 8,
   "metadata": {
    "collapsed": false
   },
   "outputs": [],
   "source": [
    "# Let's try to force concatenation\n",
    "# \"The sum is: \" + 3*4 # uncomment to see the problem"
   ]
  },
  {
   "cell_type": "code",
   "execution_count": 9,
   "metadata": {
    "collapsed": false
   },
   "outputs": [
    {
     "data": {
      "text/plain": [
       "'The sum is: 12'"
      ]
     },
     "execution_count": 9,
     "metadata": {},
     "output_type": "execute_result"
    }
   ],
   "source": [
    "# The 'str' function to the rescue!\n",
    "\"The sum is: \" + str(3*4)"
   ]
  },
  {
   "cell_type": "code",
   "execution_count": 10,
   "metadata": {
    "collapsed": false
   },
   "outputs": [
    {
     "data": {
      "text/plain": [
       "12"
      ]
     },
     "execution_count": 10,
     "metadata": {},
     "output_type": "execute_result"
    }
   ],
   "source": [
    "m = 3\n",
    "n = 4\n",
    "m*n"
   ]
  },
  {
   "cell_type": "code",
   "execution_count": 11,
   "metadata": {
    "collapsed": false
   },
   "outputs": [
    {
     "data": {
      "text/plain": [
       "'hellohellohellohello'"
      ]
     },
     "execution_count": 11,
     "metadata": {},
     "output_type": "execute_result"
    }
   ],
   "source": [
    "m = \"hello\"\n",
    "m*n"
   ]
  },
  {
   "cell_type": "code",
   "execution_count": 12,
   "metadata": {
    "collapsed": false
   },
   "outputs": [
    {
     "data": {
      "text/plain": [
       "'ll'"
      ]
     },
     "execution_count": 12,
     "metadata": {},
     "output_type": "execute_result"
    }
   ],
   "source": [
    "# slicing\n",
    "m[2:4]"
   ]
  },
  {
   "cell_type": "code",
   "execution_count": 13,
   "metadata": {
    "collapsed": false
   },
   "outputs": [
    {
     "data": {
      "text/plain": [
       "'h'"
      ]
     },
     "execution_count": 13,
     "metadata": {},
     "output_type": "execute_result"
    }
   ],
   "source": [
    "m[0]"
   ]
  },
  {
   "cell_type": "code",
   "execution_count": 14,
   "metadata": {
    "collapsed": false
   },
   "outputs": [
    {
     "data": {
      "text/plain": [
       "'hel'"
      ]
     },
     "execution_count": 14,
     "metadata": {},
     "output_type": "execute_result"
    }
   ],
   "source": [
    "m[0:3]"
   ]
  },
  {
   "cell_type": "code",
   "execution_count": 15,
   "metadata": {
    "collapsed": false
   },
   "outputs": [
    {
     "name": "stdout",
     "output_type": "stream",
     "text": [
      "h\n",
      "e\n",
      "l\n",
      "l\n",
      "o\n"
     ]
    }
   ],
   "source": [
    "for letter in m:\n",
    "    print(letter)"
   ]
  },
  {
   "cell_type": "code",
   "execution_count": 16,
   "metadata": {
    "collapsed": false
   },
   "outputs": [
    {
     "name": "stdout",
     "output_type": "stream",
     "text": [
      "Here is a letter h\n",
      "Here is a letter e\n",
      "Here is a letter l\n",
      "Here is a letter l\n",
      "Here is a letter o\n"
     ]
    }
   ],
   "source": [
    "# Combining variables and fixed strings\n",
    "# to output information\n",
    "for letter in m:\n",
    "    print(\"Here is a letter\", letter)"
   ]
  },
  {
   "cell_type": "code",
   "execution_count": 17,
   "metadata": {
    "collapsed": false
   },
   "outputs": [
    {
     "name": "stdout",
     "output_type": "stream",
     "text": [
      "0 h\n",
      "1 e\n",
      "2 l\n",
      "3 l\n",
      "4 o\n"
     ]
    }
   ],
   "source": [
    "for idx, letter in enumerate(m):\n",
    "    print(idx,letter)"
   ]
  },
  {
   "cell_type": "code",
   "execution_count": 18,
   "metadata": {
    "collapsed": false
   },
   "outputs": [
    {
     "name": "stdout",
     "output_type": "stream",
     "text": [
      "0h\n",
      "1e\n",
      "2l\n",
      "3l\n",
      "4o\n"
     ]
    }
   ],
   "source": [
    "for idx, letter in enumerate(m):\n",
    "    #print(idx + letter)\n",
    "    print(str(idx) + letter)"
   ]
  },
  {
   "cell_type": "code",
   "execution_count": 19,
   "metadata": {
    "collapsed": false
   },
   "outputs": [
    {
     "name": "stdout",
     "output_type": "stream",
     "text": [
      "0 ----- h\n",
      "1 ----- e\n",
      "2 ----- l\n",
      "3 ----- l\n",
      "4 ----- o\n"
     ]
    }
   ],
   "source": [
    "# Combining variables and fixed strings\n",
    "# to output information\n",
    "for idx, letter in enumerate(m):\n",
    "    print('%d ----- %s' % (idx, letter))"
   ]
  },
  {
   "cell_type": "code",
   "execution_count": 20,
   "metadata": {
    "collapsed": false
   },
   "outputs": [
    {
     "name": "stdout",
     "output_type": "stream",
     "text": [
      "0 ----- h\n",
      "1 ----- e\n",
      "2 ----- l\n",
      "3 ----- l\n",
      "4 ----- o\n"
     ]
    }
   ],
   "source": [
    "# Combining variables and fixed strings\n",
    "# to output information\n",
    "for idx, letter in enumerate(m):\n",
    "    print('{0} ----- {1}'.format(idx, letter))"
   ]
  },
  {
   "cell_type": "code",
   "execution_count": 21,
   "metadata": {
    "collapsed": false
   },
   "outputs": [
    {
     "name": "stdout",
     "output_type": "stream",
     "text": [
      "num    word\n",
      "---------------\n",
      " 8    some words\n",
      " 9    some words\n",
      "10    some words\n",
      "11    some words\n"
     ]
    }
   ],
   "source": [
    "# Make the formatting look nice using {0:2}\n",
    "print(\"num    word\")\n",
    "print('-'*15)\n",
    "for i in range(8,12):\n",
    "    print('{0:2}    some words'.format(i))"
   ]
  },
  {
   "cell_type": "code",
   "execution_count": 22,
   "metadata": {
    "collapsed": true
   },
   "outputs": [],
   "source": [
    "lotto = [5, 27, 8, 26, 41, 32]"
   ]
  },
  {
   "cell_type": "code",
   "execution_count": 23,
   "metadata": {
    "collapsed": false
   },
   "outputs": [
    {
     "name": "stdout",
     "output_type": "stream",
     "text": [
      "[5, 27, 8, 26, 41, 32]\n"
     ]
    }
   ],
   "source": [
    "print(lotto)"
   ]
  },
  {
   "cell_type": "code",
   "execution_count": 24,
   "metadata": {
    "collapsed": false
   },
   "outputs": [
    {
     "name": "stdout",
     "output_type": "stream",
     "text": [
      "5\n",
      "27\n",
      "8\n",
      "26\n",
      "41\n",
      "32\n"
     ]
    }
   ],
   "source": [
    "for num in lotto:\n",
    "    print(num)"
   ]
  },
  {
   "cell_type": "code",
   "execution_count": 25,
   "metadata": {
    "collapsed": false
   },
   "outputs": [
    {
     "data": {
      "text/plain": [
       "[5, 8, 26, 27, 32, 41]"
      ]
     },
     "execution_count": 25,
     "metadata": {},
     "output_type": "execute_result"
    }
   ],
   "source": [
    "sorted_lotto = sorted(lotto)\n",
    "sorted_lotto"
   ]
  },
  {
   "cell_type": "code",
   "execution_count": 26,
   "metadata": {
    "collapsed": false
   },
   "outputs": [
    {
     "data": {
      "text/plain": [
       "26"
      ]
     },
     "execution_count": 26,
     "metadata": {},
     "output_type": "execute_result"
    }
   ],
   "source": [
    "sorted_lotto[2]"
   ]
  },
  {
   "cell_type": "markdown",
   "metadata": {},
   "source": [
    "### Exercise:    \n",
    "Write code to produce the following output:   \n",
    "your lotto number is 5   \n",
    "your lotto number is 8   \n",
    "etc   "
   ]
  },
  {
   "cell_type": "markdown",
   "metadata": {},
   "source": [
    "### Exercise\n",
    "Write code to produce the following output:    \n",
    "number 1 is 5   \n",
    "number 2 is 8     \n",
    "etc"
   ]
  },
  {
   "cell_type": "markdown",
   "metadata": {},
   "source": [
    "### Analysis\n",
    "Possibly the most significant thing is the fact that we are repeatedly doing roughly the same thing => iteration/looping\n",
    "What changes between the first and second lines and what doesn't change?    \n",
    "The word number appears in both lines   \n",
    "The word 'is' appears in both lines   \n",
    "There is a count in both lines, it inceases by one on each line. This data comes from the index, or range, or maybe an enumeration.   \n",
    "There is a lotto number in each line. This comes from the sorted_lotto list.    \n",
    "\n",
    "We saw earlier that we can use different techniques to place variables in pre-defined strings   \n",
    "print('{0:2}    some words'.format(i))   \n",
    "print('{0} ----- {1}'.format(idx, letter))   \n",
    "print('%d ----- %s' % (idx, letter))   "
   ]
  },
  {
   "cell_type": "markdown",
   "metadata": {},
   "source": [
    "### Where do you start?\n",
    "I would start by iterating over the data"
   ]
  },
  {
   "cell_type": "code",
   "execution_count": null,
   "metadata": {
    "collapsed": true
   },
   "outputs": [],
   "source": [
    "for num in sorted_lotto:\n",
    "    print(num)"
   ]
  },
  {
   "cell_type": "code",
   "execution_count": 29,
   "metadata": {
    "collapsed": false
   },
   "outputs": [
    {
     "name": "stdout",
     "output_type": "stream",
     "text": [
      "0 5\n",
      "1 8\n",
      "2 26\n",
      "3 27\n",
      "4 32\n",
      "5 41\n"
     ]
    }
   ],
   "source": [
    "for idx, num in enumerate(sorted_lotto):\n",
    "    print(idx, num)"
   ]
  },
  {
   "cell_type": "code",
   "execution_count": 30,
   "metadata": {
    "collapsed": false
   },
   "outputs": [
    {
     "name": "stdout",
     "output_type": "stream",
     "text": [
      "1 5\n",
      "2 8\n",
      "3 26\n",
      "4 27\n",
      "5 32\n",
      "6 41\n"
     ]
    }
   ],
   "source": [
    "# this starts at zero, fix this!\n",
    "for idx, num in enumerate(sorted_lotto):\n",
    "    print((idx+1), num)"
   ]
  },
  {
   "cell_type": "code",
   "execution_count": 31,
   "metadata": {
    "collapsed": false
   },
   "outputs": [
    {
     "name": "stdout",
     "output_type": "stream",
     "text": [
      "Number 1 is 5\n",
      "Number 2 is 8\n",
      "Number 3 is 26\n",
      "Number 4 is 27\n",
      "Number 5 is 32\n",
      "Number 6 is 41\n"
     ]
    }
   ],
   "source": [
    "# get the words number and is in the output\n",
    "for idx, num in enumerate(sorted_lotto):\n",
    "    print('Number',(idx+1),'is', num)"
   ]
  },
  {
   "cell_type": "code",
   "execution_count": 32,
   "metadata": {
    "collapsed": false
   },
   "outputs": [
    {
     "name": "stdout",
     "output_type": "stream",
     "text": [
      "Number 1 is  5\n",
      "Number 2 is  8\n",
      "Number 3 is 26\n",
      "Number 4 is 27\n",
      "Number 5 is 32\n",
      "Number 6 is 41\n"
     ]
    }
   ],
   "source": [
    "for idx, num in enumerate(sorted_lotto):\n",
    "    print('Number {0} is {1:2}'.format((idx+1),num))"
   ]
  },
  {
   "cell_type": "markdown",
   "metadata": {},
   "source": [
    "### Is there another way?\n"
   ]
  },
  {
   "cell_type": "code",
   "execution_count": 33,
   "metadata": {
    "collapsed": false
   },
   "outputs": [
    {
     "name": "stdout",
     "output_type": "stream",
     "text": [
      "0 5\n",
      "1 8\n",
      "2 26\n",
      "3 27\n",
      "4 32\n",
      "5 41\n"
     ]
    }
   ],
   "source": [
    "for i in range(6):\n",
    "    print(i, sorted_lotto[i])"
   ]
  },
  {
   "cell_type": "markdown",
   "metadata": {},
   "source": [
    "### Any other ways?"
   ]
  },
  {
   "cell_type": "code",
   "execution_count": 34,
   "metadata": {
    "collapsed": false
   },
   "outputs": [
    {
     "name": "stdout",
     "output_type": "stream",
     "text": [
      "Number 1 is 5\n",
      "Number 2 is 8\n",
      "Number 3 is 26\n",
      "Number 4 is 27\n",
      "Number 5 is 32\n",
      "Number 6 is 41\n"
     ]
    }
   ],
   "source": [
    "for idx, num in enumerate(sorted_lotto):\n",
    "    print('Number %d is %d' % ((idx+1), num))"
   ]
  },
  {
   "cell_type": "code",
   "execution_count": null,
   "metadata": {
    "collapsed": true
   },
   "outputs": [],
   "source": []
  }
 ],
 "metadata": {
  "kernelspec": {
   "display_name": "Python 3",
   "language": "python",
   "name": "python3"
  },
  "language_info": {
   "codemirror_mode": {
    "name": "ipython",
    "version": 3
   },
   "file_extension": ".py",
   "mimetype": "text/x-python",
   "name": "python",
   "nbconvert_exporter": "python",
   "pygments_lexer": "ipython3",
   "version": "3.5.1"
  }
 },
 "nbformat": 4,
 "nbformat_minor": 0
}
