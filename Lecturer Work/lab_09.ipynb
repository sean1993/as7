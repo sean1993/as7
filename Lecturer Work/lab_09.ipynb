{
 "cells": [
  {
   "cell_type": "code",
   "execution_count": 1,
   "metadata": {
    "collapsed": false
   },
   "outputs": [
    {
     "data": {
      "text/plain": [
       "'one,\\ntwo,\\nthree'"
      ]
     },
     "execution_count": 1,
     "metadata": {},
     "output_type": "execute_result"
    }
   ],
   "source": [
    "words = '''one,\n",
    "two,\n",
    "three'''\n",
    "\n",
    "words"
   ]
  },
  {
   "cell_type": "code",
   "execution_count": 2,
   "metadata": {
    "collapsed": false
   },
   "outputs": [
    {
     "name": "stdout",
     "output_type": "stream",
     "text": [
      "o-n-e-,-\n",
      "-t-w-o-,-\n",
      "-t-h-r-e-e-"
     ]
    }
   ],
   "source": [
    "for item in words:\n",
    "    print(item,end='-')"
   ]
  },
  {
   "cell_type": "code",
   "execution_count": 3,
   "metadata": {
    "collapsed": false
   },
   "outputs": [
    {
     "name": "stdout",
     "output_type": "stream",
     "text": [
      "onetwothree"
     ]
    }
   ],
   "source": [
    "# removing unwanted characters: space, newline, amnd comma\n",
    "spc_nl_comma = ' \\n,'\n",
    "for letter in words:\n",
    "    if letter not in spc_nl_comma:\n",
    "        print(letter, end='')"
   ]
  },
  {
   "cell_type": "code",
   "execution_count": 4,
   "metadata": {
    "collapsed": false
   },
   "outputs": [
    {
     "name": "stdout",
     "output_type": "stream",
     "text": [
      "['o', 'n', 'e', 't', 'w', 'o', 't', 'h', 'r', 'e', 'e']\n"
     ]
    }
   ],
   "source": [
    "# Store the cleaned list\n",
    "\n",
    "cleaned = []\n",
    "\n",
    "spc_nl_comma = ' \\n,'\n",
    "for letter in words:\n",
    "    if letter not in spc_nl_comma:\n",
    "        cleaned.append(letter)\n",
    "\n",
    "print(cleaned)"
   ]
  },
  {
   "cell_type": "code",
   "execution_count": 5,
   "metadata": {
    "collapsed": false
   },
   "outputs": [
    {
     "data": {
      "text/plain": [
       "'onetwothree'"
      ]
     },
     "execution_count": 5,
     "metadata": {},
     "output_type": "execute_result"
    }
   ],
   "source": [
    "# A nice way to display a list in Jupyter\n",
    "\n",
    "as_one = ''.join(cleaned)\n",
    "as_one"
   ]
  },
  {
   "cell_type": "code",
   "execution_count": 6,
   "metadata": {
    "collapsed": false
   },
   "outputs": [
    {
     "name": "stdout",
     "output_type": "stream",
     "text": [
      "111-110-101-44-10-116-119-111-44-10-116-104-114-101-101-"
     ]
    }
   ],
   "source": [
    "# ord converts a symbol to its ascii value\n",
    "\n",
    "for letter in words:\n",
    "    print(ord(letter), end='-')"
   ]
  },
  {
   "cell_type": "code",
   "execution_count": 7,
   "metadata": {
    "collapsed": false
   },
   "outputs": [
    {
     "name": "stdout",
     "output_type": "stream",
     "text": [
      "111-110-101-116-119-111-116-104-114-101-101-"
     ]
    }
   ],
   "source": [
    "for letter in cleaned:\n",
    "    print(ord(letter), end='-')"
   ]
  },
  {
   "cell_type": "code",
   "execution_count": 8,
   "metadata": {
    "collapsed": false
   },
   "outputs": [
    {
     "data": {
      "text/plain": [
       "[111, 110, 101, 44, 10, 116, 119, 111, 44, 10, 116, 104, 114, 101, 101]"
      ]
     },
     "execution_count": 8,
     "metadata": {},
     "output_type": "execute_result"
    }
   ],
   "source": [
    "ascii = list( map(ord, words))\n",
    "ascii"
   ]
  },
  {
   "cell_type": "code",
   "execution_count": 9,
   "metadata": {
    "collapsed": false
   },
   "outputs": [
    {
     "name": "stdout",
     "output_type": "stream",
     "text": [
      "1,2,3\n",
      "4,5,6\n",
      "7,8,9\n",
      "10,11,12"
     ]
    }
   ],
   "source": [
    "with open(\"numbers.dat\", \"r\") as f:\n",
    "    for line in f:\n",
    "        for letter in line:\n",
    "            print(letter, end='')"
   ]
  },
  {
   "cell_type": "code",
   "execution_count": 10,
   "metadata": {
    "collapsed": false
   },
   "outputs": [
    {
     "name": "stdout",
     "output_type": "stream",
     "text": [
      "4944504451105244534454105544564457104948444949444950"
     ]
    }
   ],
   "source": [
    "with open(\"numbers.dat\", \"r\") as f:\n",
    "    for line in f:\n",
    "        for letter in line:\n",
    "            print(ord(letter), end='')"
   ]
  },
  {
   "cell_type": "code",
   "execution_count": 11,
   "metadata": {
    "collapsed": false
   },
   "outputs": [],
   "source": [
    "ascii_vals = []\n",
    "\n",
    "with open(\"numbers.dat\", \"r\") as f:\n",
    "    for line in f:\n",
    "        for letter in line:\n",
    "            ascii_vals.append(ord(letter))"
   ]
  },
  {
   "cell_type": "code",
   "execution_count": 12,
   "metadata": {
    "collapsed": false
   },
   "outputs": [
    {
     "data": {
      "text/plain": [
       "['1',\n",
       " ',',\n",
       " '2',\n",
       " ',',\n",
       " '3',\n",
       " '\\n',\n",
       " '4',\n",
       " ',',\n",
       " '5',\n",
       " ',',\n",
       " '6',\n",
       " '\\n',\n",
       " '7',\n",
       " ',',\n",
       " '8',\n",
       " ',',\n",
       " '9',\n",
       " '\\n',\n",
       " '1',\n",
       " '0',\n",
       " ',',\n",
       " '1',\n",
       " '1',\n",
       " ',',\n",
       " '1',\n",
       " '2']"
      ]
     },
     "execution_count": 12,
     "metadata": {},
     "output_type": "execute_result"
    }
   ],
   "source": [
    "chars = list( map(chr, ascii_vals))\n",
    "chars"
   ]
  },
  {
   "cell_type": "code",
   "execution_count": 13,
   "metadata": {
    "collapsed": false
   },
   "outputs": [
    {
     "data": {
      "text/plain": [
       "'1,2,3\\n4,5,6\\n7,8,9\\n10,11,12'"
      ]
     },
     "execution_count": 13,
     "metadata": {},
     "output_type": "execute_result"
    }
   ],
   "source": [
    "''.join(chars)"
   ]
  },
  {
   "cell_type": "code",
   "execution_count": 14,
   "metadata": {
    "collapsed": false
   },
   "outputs": [
    {
     "name": "stdout",
     "output_type": "stream",
     "text": [
      "['1', '2', '3']\n",
      "['4', '5', '6']\n",
      "['7', '8', '9']\n",
      "['10', '11', '12']\n"
     ]
    }
   ],
   "source": [
    "with open(\"numbers.dat\", \"r\") as f:\n",
    "    for item in f:\n",
    "        print(item.strip().split(','))"
   ]
  },
  {
   "cell_type": "code",
   "execution_count": 15,
   "metadata": {
    "collapsed": false
   },
   "outputs": [
    {
     "name": "stdout",
     "output_type": "stream",
     "text": [
      "3\n",
      "4\n"
     ]
    }
   ],
   "source": [
    "# unpacking\n",
    "# number of variables must match the number of data items\n",
    "a,b,c,d = 3,4,5,6\n",
    "print(a)\n",
    "print(b)"
   ]
  },
  {
   "cell_type": "markdown",
   "metadata": {},
   "source": [
    "A bit about printing"
   ]
  },
  {
   "cell_type": "code",
   "execution_count": 16,
   "metadata": {
    "collapsed": false
   },
   "outputs": [
    {
     "name": "stdout",
     "output_type": "stream",
     "text": [
      "a is 3 , b is 4\n"
     ]
    }
   ],
   "source": [
    "print(\"a is\", 3 , \", b is\", 4)"
   ]
  },
  {
   "cell_type": "code",
   "execution_count": 17,
   "metadata": {
    "collapsed": false
   },
   "outputs": [
    {
     "name": "stdout",
     "output_type": "stream",
     "text": [
      "a is 3, b is 4\n"
     ]
    }
   ],
   "source": [
    "print(\"%s %d, %s %d\" % (\"a is\", 3, \"b is\", 4))"
   ]
  },
  {
   "cell_type": "code",
   "execution_count": 18,
   "metadata": {
    "collapsed": false
   },
   "outputs": [
    {
     "name": "stdout",
     "output_type": "stream",
     "text": [
      "2 2\n",
      "'2' 2\n"
     ]
    }
   ],
   "source": [
    "print(\"%s %d\" % (\"2\", 2))\n",
    "print(\"%r %r\" % (\"2\", 2))"
   ]
  },
  {
   "cell_type": "code",
   "execution_count": 19,
   "metadata": {
    "collapsed": false
   },
   "outputs": [
    {
     "name": "stdout",
     "output_type": "stream",
     "text": [
      "a is   5, b is  10\n"
     ]
    }
   ],
   "source": [
    "output = \"a is {0:3}, b is {1:3}\".format(5, 10)\n",
    "print(output)"
   ]
  },
  {
   "cell_type": "code",
   "execution_count": 20,
   "metadata": {
    "collapsed": false
   },
   "outputs": [
    {
     "name": "stdout",
     "output_type": "stream",
     "text": [
      "['1', '2', '3']\n",
      "['4', '5', '6']\n",
      "['7', '8', '9']\n",
      "['10', '11', '12']\n"
     ]
    }
   ],
   "source": [
    "\n",
    "with open(\"numbers.dat\", \"r\") as f:\n",
    "    for item in f:\n",
    "        print(item.strip().split(','))"
   ]
  },
  {
   "cell_type": "code",
   "execution_count": 21,
   "metadata": {
    "collapsed": false
   },
   "outputs": [
    {
     "name": "stdout",
     "output_type": "stream",
     "text": [
      "'1' '2' '3'\n",
      "'4' '5' '6'\n",
      "'7' '8' '9'\n",
      "'10' '11' '12'\n"
     ]
    }
   ],
   "source": [
    "# multi-variable assignment (unpacking)\n",
    "\n",
    "with open(\"numbers.dat\", \"r\") as f:\n",
    "    for item in f:\n",
    "        a,b,c = item.strip().split(',')\n",
    "        print(\"%r %r %r\" % (a,b,c))"
   ]
  },
  {
   "cell_type": "code",
   "execution_count": 22,
   "metadata": {
    "collapsed": false
   },
   "outputs": [
    {
     "name": "stdout",
     "output_type": "stream",
     "text": [
      "1 2 3\n",
      "4 5 6\n",
      "7 8 9\n",
      "10 11 12\n"
     ]
    }
   ],
   "source": [
    "with open(\"numbers.dat\", \"r\") as f:\n",
    "    for item in f:\n",
    "        a,b,c = map(int,item.strip().split(','))\n",
    "        print(\"%r %r %r\" % (a,b,c))\n",
    "        # print(sum([a,b,c]))"
   ]
  },
  {
   "cell_type": "code",
   "execution_count": 23,
   "metadata": {
    "collapsed": false
   },
   "outputs": [
    {
     "data": {
      "text/plain": [
       "[(1, 2, 3), (4, 5, 6), (7, 8, 9), (10, 11, 12)]"
      ]
     },
     "execution_count": 23,
     "metadata": {},
     "output_type": "execute_result"
    }
   ],
   "source": [
    "data = []\n",
    "with open(\"numbers.dat\", \"r\") as f:\n",
    "    for item in f:\n",
    "        data.append(tuple(map(int,item.strip().split(','))))\n",
    "data"
   ]
  },
  {
   "cell_type": "code",
   "execution_count": 24,
   "metadata": {
    "collapsed": false
   },
   "outputs": [
    {
     "name": "stdout",
     "output_type": "stream",
     "text": [
      "(1, 2, 3)\n",
      "(4, 5, 6)\n",
      "(7, 8, 9)\n",
      "(10, 11, 12)\n"
     ]
    }
   ],
   "source": [
    "for tup in data:\n",
    "    print(tup)"
   ]
  },
  {
   "cell_type": "code",
   "execution_count": 25,
   "metadata": {
    "collapsed": false
   },
   "outputs": [
    {
     "name": "stdout",
     "output_type": "stream",
     "text": [
      "num golds 1, num silver 2, num bronze 3\n",
      "num golds 4, num silver 5, num bronze 6\n",
      "num golds 7, num silver 8, num bronze 9\n",
      "num golds 10, num silver 11, num bronze 12\n"
     ]
    }
   ],
   "source": [
    "for tup in data:\n",
    "    print(\"num golds {0}, num silver {1}, num bronze {2}\".format(tup[0], tup[1], tup[2]))"
   ]
  },
  {
   "cell_type": "code",
   "execution_count": 26,
   "metadata": {
    "collapsed": true
   },
   "outputs": [],
   "source": [
    "ipaddr = \"192.168.1.34\"\n",
    "parts = ipaddr.split('.')"
   ]
  },
  {
   "cell_type": "code",
   "execution_count": 27,
   "metadata": {
    "collapsed": false
   },
   "outputs": [],
   "source": [
    "a,b,c,d = parts"
   ]
  },
  {
   "cell_type": "code",
   "execution_count": 28,
   "metadata": {
    "collapsed": false
   },
   "outputs": [
    {
     "name": "stdout",
     "output_type": "stream",
     "text": [
      "A=192, B=168, C=1, D=34\n"
     ]
    }
   ],
   "source": [
    "print(\"A={0}, B={1}, C={2}, D={3}\".format(a,b,c,d))"
   ]
  },
  {
   "cell_type": "code",
   "execution_count": 29,
   "metadata": {
    "collapsed": false
   },
   "outputs": [
    {
     "name": "stdout",
     "output_type": "stream",
     "text": [
      "192.168.1.34\n",
      "192.168.1.35\n"
     ]
    }
   ],
   "source": [
    "with open(\"apache.log\", \"r\") as f:\n",
    "    for record in f:\n",
    "        print(record, end='')"
   ]
  },
  {
   "cell_type": "code",
   "execution_count": 32,
   "metadata": {
    "collapsed": true
   },
   "outputs": [],
   "source": [
    "import pycountry as pyc"
   ]
  },
  {
   "cell_type": "code",
   "execution_count": 33,
   "metadata": {
    "collapsed": false
   },
   "outputs": [
    {
     "data": {
      "text/plain": [
       "Country(alpha_2='IE', alpha_3='IRL', name='Ireland', numeric='372')"
      ]
     },
     "execution_count": 33,
     "metadata": {},
     "output_type": "execute_result"
    }
   ],
   "source": [
    "country = pyc.countries.get(alpha_2='IE')\n",
    "country"
   ]
  },
  {
   "cell_type": "code",
   "execution_count": 34,
   "metadata": {
    "collapsed": false
   },
   "outputs": [
    {
     "data": {
      "text/plain": [
       "'Ireland'"
      ]
     },
     "execution_count": 34,
     "metadata": {},
     "output_type": "execute_result"
    }
   ],
   "source": [
    "country.name"
   ]
  },
  {
   "cell_type": "code",
   "execution_count": 35,
   "metadata": {
    "collapsed": false
   },
   "outputs": [
    {
     "data": {
      "text/plain": [
       "['__class__',\n",
       " '__delattr__',\n",
       " '__dict__',\n",
       " '__dir__',\n",
       " '__doc__',\n",
       " '__eq__',\n",
       " '__format__',\n",
       " '__ge__',\n",
       " '__getattr__',\n",
       " '__getattribute__',\n",
       " '__gt__',\n",
       " '__hash__',\n",
       " '__init__',\n",
       " '__le__',\n",
       " '__lt__',\n",
       " '__module__',\n",
       " '__ne__',\n",
       " '__new__',\n",
       " '__reduce__',\n",
       " '__reduce_ex__',\n",
       " '__repr__',\n",
       " '__setattr__',\n",
       " '__sizeof__',\n",
       " '__str__',\n",
       " '__subclasshook__',\n",
       " '__weakref__',\n",
       " 'alpha_2',\n",
       " 'alpha_3',\n",
       " 'name',\n",
       " 'numeric']"
      ]
     },
     "execution_count": 35,
     "metadata": {},
     "output_type": "execute_result"
    }
   ],
   "source": [
    "dir(country)"
   ]
  },
  {
   "cell_type": "code",
   "execution_count": 36,
   "metadata": {
    "collapsed": false
   },
   "outputs": [
    {
     "name": "stdout",
     "output_type": "stream",
     "text": [
      "64.242.88.10 - - [07/Mar/2004:16:05:49 -0800] \"GET /twiki/bin/edit/Main/Double_bounce_sender?topicparent=Main.ConfigurationVariables HTTP/1.1\" 401 12846\n",
      "64.242.88.10 - - [07/Mar/2004:16:06:51 -0800] \"GET /twiki/bin/rdiff/TWiki/NewUserTemplate?rev1=1.3&rev2=1.2 HTTP/1.1\" 200 4523\n",
      "64.242.88.10 - - [07/Mar/2004:16:10:02 -0800] \"GET /mailman/listinfo/hsdivision HTTP/1.1\" 200 6291\n",
      "64.242.88.10 - - [07/Mar/2004:16:11:58 -0800] \"GET /twiki/bin/view/TWiki/WikiSyntax HTTP/1.1\" 200 7352\n",
      "64.242.88.10 - - [07/Mar/2004:16:20:55 -0800] \"GET /twiki/bin/view/Main/DCCAndPostFix HTTP/1.1\" 200 5253\n",
      "64.242.88.10 - - [07/Mar/2004:16:23:12 -0800] \"GET /twiki/bin/oops/TWiki/AppendixFileSystem?template=oopsmoreÂ¶m1=1.12Â¶m2=1.12 HTTP/1.1\" 200 11382\n",
      "64.242.88.10 - - [07/Mar/2004:16:24:16 -0800] \"GET /twiki/bin/view/Main/PeterThoeny HTTP/1.1\" 200 4924\n",
      "64.242.88.10 - - [07/Mar/2004:16:29:16 -0800] \"GET /twiki/bin/edit/Main/Header_checks?topicparent=Main.ConfigurationVariables HTTP/1.1\" 401 12851\n",
      "64.242.88.10 - - [07/Mar/2004:16:30:29 -0800] \"GET /twiki/bin/attach/Main/OfficeLocations HTTP/1.1\" 401 12851\n",
      "64.242.88.10 - - [07/Mar/2004:16:31:48 -0800] \"GET /twiki/bin/view/TWiki/WebTopicEditTemplate HTTP/1.1\" 200 3732\n",
      "64.242.88.10 - - [07/Mar/2004:16:32:50 -0800] \"GET /twiki/bin/view/Main/WebChanges HTTP/1.1\" 200 40520\n",
      "64.242.88.10 - - [07/Mar/2004:16:33:53 -0800] \"GET /twiki/bin/edit/Main/Smtpd_etrn_restrictions?topicparent=Main.ConfigurationVariables HTTP/1.1\" 401 12851\n",
      "64.242.88.10 - - [07/Mar/2004:16:35:19 -0800] \"GET /mailman/listinfo/business HTTP/1.1\" 200 6379\n",
      "64.242.88.10 - - [07/Mar/2004:16:36:22 -0800] \"GET /twiki/bin/rdiff/Main/WebIndex?rev1=1.2&rev2=1.1 HTTP/1.1\" 200 46373\n",
      "64.242.88.10 - - [07/Mar/2004:16:37:27 -0800] \"GET /twiki/bin/view/TWiki/DontNotify HTTP/1.1\" 200 4140\n",
      "64.242.88.10 - - [07/Mar/2004:16:39:24 -0800] \"GET /twiki/bin/view/Main/TokyoOffice HTTP/1.1\" 200 3853\n",
      "64.242.88.10 - - [07/Mar/2004:16:43:54 -0800] \"GET /twiki/bin/view/Main/MikeMannix HTTP/1.1\" 200 3686\n",
      "64.242.88.10 - - [07/Mar/2004:16:45:56 -0800] \"GET /twiki/bin/attach/Main/PostfixCommands HTTP/1.1\" 401 12846\n",
      "64.242.88.10 - - [07/Mar/2004:16:47:12 -0800] \"GET /robots.txt HTTP/1.1\" 200 68"
     ]
    }
   ],
   "source": [
    "with open(\"apache.log\", \"r\") as f:\n",
    "    for record in f:\n",
    "        print(record, end='')"
   ]
  },
  {
   "cell_type": "code",
   "execution_count": 37,
   "metadata": {
    "collapsed": true
   },
   "outputs": [],
   "source": [
    "data = []\n",
    "with open(\"apache.log\", \"r\") as f:\n",
    "    for record in f:\n",
    "        data.append(record.strip().split(' '))"
   ]
  },
  {
   "cell_type": "code",
   "execution_count": 39,
   "metadata": {
    "collapsed": false
   },
   "outputs": [
    {
     "name": "stdout",
     "output_type": "stream",
     "text": [
      "IP =  64.242.88.10\n",
      "IP =  64.242.88.10\n",
      "IP =  64.242.88.10\n",
      "IP =  64.242.88.10\n",
      "IP =  64.242.88.10\n",
      "IP =  64.242.88.10\n",
      "IP =  64.242.88.10\n",
      "IP =  64.242.88.10\n",
      "IP =  64.242.88.10\n",
      "IP =  64.242.88.10\n",
      "IP =  64.242.88.10\n",
      "IP =  64.242.88.10\n",
      "IP =  64.242.88.10\n",
      "IP =  64.242.88.10\n",
      "IP =  64.242.88.10\n",
      "IP =  64.242.88.10\n",
      "IP =  64.242.88.10\n",
      "IP =  64.242.88.10\n",
      "IP =  64.242.88.10\n"
     ]
    }
   ],
   "source": [
    "for record in data:\n",
    "    print(\"IP = \", record[0])"
   ]
  },
  {
   "cell_type": "code",
   "execution_count": 41,
   "metadata": {
    "collapsed": false
   },
   "outputs": [
    {
     "name": "stdout",
     "output_type": "stream",
     "text": [
      "the rain in spain"
     ]
    }
   ],
   "source": [
    "sentence = \"the rain in spain\"\n",
    "\n",
    "for letter in sentence:\n",
    "    print (letter, end='')"
   ]
  },
  {
   "cell_type": "code",
   "execution_count": 42,
   "metadata": {
    "collapsed": false
   },
   "outputs": [
    {
     "name": "stdout",
     "output_type": "stream",
     "text": [
      "{'s': 1, 'n': 3, 'a': 2, 'h': 1, 'i': 3, 'r': 1, 'e': 1, ' ': 3, 'p': 1, 't': 1}\n"
     ]
    }
   ],
   "source": [
    "sentence = \"the rain in spain\"\n",
    "\n",
    "freq = {}\n",
    "\n",
    "for letter in sentence:\n",
    "    freq[letter] = freq.get(letter,0) + 1\n",
    "\n",
    "print(freq)"
   ]
  },
  {
   "cell_type": "code",
   "execution_count": null,
   "metadata": {
    "collapsed": true
   },
   "outputs": [],
   "source": []
  }
 ],
 "metadata": {
  "anaconda-cloud": {},
  "kernelspec": {
   "display_name": "Python [default]",
   "language": "python",
   "name": "python3"
  },
  "language_info": {
   "codemirror_mode": {
    "name": "ipython",
    "version": 3
   },
   "file_extension": ".py",
   "mimetype": "text/x-python",
   "name": "python",
   "nbconvert_exporter": "python",
   "pygments_lexer": "ipython3",
   "version": "3.5.2"
  }
 },
 "nbformat": 4,
 "nbformat_minor": 0
}
