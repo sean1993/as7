{
 "cells": [
  {
   "cell_type": "markdown",
   "metadata": {},
   "source": [
    "### Exercises"
   ]
  },
  {
   "cell_type": "code",
   "execution_count": null,
   "metadata": {
    "collapsed": true
   },
   "outputs": [],
   "source": [
    "# Please run this notebook from linux or cygwin"
   ]
  },
  {
   "cell_type": "markdown",
   "metadata": {},
   "source": [
    "1. Write code to create a list of numbers and iterate over the numbers.\n",
    "2. Write code to iterate over a string, displaying each character.\n",
    "3. Create a multiline string and display the string, removing white spaces and newlines.\n",
    "4. Using '-'.join(), display the word hello with a dash between each two letters.\n",
    "5. Why can't you do the same thing with '-'.join[1,2,3,4]. What would you do to get it to display \"1-2-3-4\"\n",
    "6. What is the purpose of the map function?\n",
    "7. Why doesn't the map function produce values?\n",
    "8. How do you force a map to produce values?\n",
    "9. What is the benefit of opening a file inside the 'with' context/statement?\n",
    "10. What happens when you open a text file in binary mode?\n",
    "11. Run the next two cells and explain the output that is produced. "
   ]
  },
  {
   "cell_type": "code",
   "execution_count": null,
   "metadata": {
    "collapsed": false
   },
   "outputs": [],
   "source": [
    "%%bash\n",
    "cat << \"EOF\" > file.dat\n",
    "1,2,3\n",
    "4,5,6\n",
    "7,8,9\n",
    "EOF"
   ]
  },
  {
   "cell_type": "code",
   "execution_count": null,
   "metadata": {
    "collapsed": false
   },
   "outputs": [],
   "source": [
    "with open(\"file.dat\", \"rb\") as f:\n",
    "    for item in f:\n",
    "        for value in item:\n",
    "            print(value, end=' ')\n",
    "        print()\n",
    "        print(item.decode(\"utf-8\"), end='')"
   ]
  },
  {
   "cell_type": "markdown",
   "metadata": {},
   "source": [
    "12. Give an example of converting a character to its ascii value.\n",
    "13. Give an example of converting an ascii value to a character.\n",
    "13. 115 111 102 116 119 97 114 101             ?\n",
    "14. Iterate over the following: b\"something\"\n",
    "15. Explain the output of the next few cells "
   ]
  },
  {
   "cell_type": "code",
   "execution_count": null,
   "metadata": {
    "collapsed": true
   },
   "outputs": [],
   "source": [
    "word='''Here is some \n",
    "some\n",
    "stuff\n",
    "in\n",
    "a file\n",
    "'''"
   ]
  },
  {
   "cell_type": "code",
   "execution_count": null,
   "metadata": {
    "collapsed": false
   },
   "outputs": [],
   "source": [
    "for letter in word:\n",
    "    print(letter.strip('\\n'),end='')"
   ]
  },
  {
   "cell_type": "code",
   "execution_count": null,
   "metadata": {
    "collapsed": false
   },
   "outputs": [],
   "source": [
    "print(word.strip('\\n'),end='')"
   ]
  },
  {
   "cell_type": "code",
   "execution_count": null,
   "metadata": {
    "collapsed": false
   },
   "outputs": [],
   "source": [
    "print(word.strip(),end='')"
   ]
  },
  {
   "cell_type": "code",
   "execution_count": null,
   "metadata": {
    "collapsed": false
   },
   "outputs": [],
   "source": [
    "print(word.strip())"
   ]
  },
  {
   "cell_type": "code",
   "execution_count": null,
   "metadata": {
    "collapsed": false
   },
   "outputs": [],
   "source": [
    "for letter in word:\n",
    "    print(letter.strip(),end='')"
   ]
  },
  {
   "cell_type": "code",
   "execution_count": null,
   "metadata": {
    "collapsed": false
   },
   "outputs": [],
   "source": [
    "[ord(i) for i in \"what's this?\"]"
   ]
  },
  {
   "cell_type": "markdown",
   "metadata": {},
   "source": [
    "1. Display the words of this sentence on separate lines\n",
    "2. Count the number of non-whitespace letters\n",
    "3. Find the frequency of letters in the sentence"
   ]
  },
  {
   "cell_type": "code",
   "execution_count": null,
   "metadata": {
    "collapsed": true
   },
   "outputs": [],
   "source": [
    "sentence = \"Here are some words\""
   ]
  },
  {
   "cell_type": "code",
   "execution_count": null,
   "metadata": {
    "collapsed": true
   },
   "outputs": [],
   "source": []
  }
 ],
 "metadata": {
  "kernelspec": {
   "display_name": "Python [Root]",
   "language": "python",
   "name": "Python [Root]"
  },
  "language_info": {
   "codemirror_mode": {
    "name": "ipython",
    "version": 3
   },
   "file_extension": ".py",
   "mimetype": "text/x-python",
   "name": "python",
   "nbconvert_exporter": "python",
   "pygments_lexer": "ipython3",
   "version": "3.5.2"
  }
 },
 "nbformat": 4,
 "nbformat_minor": 0
}
