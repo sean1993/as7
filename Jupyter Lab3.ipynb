{
 "cells": [
  {
   "cell_type": "code",
   "execution_count": null,
   "metadata": {
    "collapsed": false
   },
   "outputs": [],
   "source": [
    "0.1 * 0.2"
   ]
  },
  {
   "cell_type": "code",
   "execution_count": null,
   "metadata": {
    "collapsed": false
   },
   "outputs": [],
   "source": [
    "0.1 * 0.2 == 0.02"
   ]
  },
  {
   "cell_type": "code",
   "execution_count": null,
   "metadata": {
    "collapsed": false
   },
   "outputs": [],
   "source": [
    "0.0199 < 0.1 * 0.2 < 0.0200001"
   ]
  },
  {
   "cell_type": "code",
   "execution_count": null,
   "metadata": {
    "collapsed": false
   },
   "outputs": [],
   "source": [
    "tolerance = 0.00001\n",
    "\n",
    "result = 0.1 * 0.2\n",
    "\n",
    "lower_limit = 0.02 - tolerance\n",
    "upper_limit = 0.02 + tolerance\n",
    "\n",
    "if lower_limit < result < upper_limit:\n",
    "    print(\"Acceptble!\")\n",
    "else:\n",
    "    print(\"Unacceptable!\")"
   ]
  },
  {
   "cell_type": "code",
   "execution_count": null,
   "metadata": {
    "collapsed": true
   },
   "outputs": [],
   "source": [
    "def find_average():\n",
    "    num_list = [1, 5, 11, 83, 146]\n",
    "    for i in num_list:\n",
    "        i+=i\n",
    "    print(i)"
   ]
  },
  {
   "cell_type": "code",
   "execution_count": null,
   "metadata": {
    "collapsed": false
   },
   "outputs": [],
   "source": [
    "find_average"
   ]
  },
  {
   "cell_type": "code",
   "execution_count": null,
   "metadata": {
    "collapsed": false
   },
   "outputs": [],
   "source": [
    "find_average()"
   ]
  },
  {
   "cell_type": "code",
   "execution_count": null,
   "metadata": {
    "collapsed": true
   },
   "outputs": [],
   "source": [
    "def find_average():\n",
    "    num_list = [1, 5, 11, 83, 146]\n",
    "    for i in num_list:\n",
    "        i+=i\n",
    "        avg = i/len(num_list)\n",
    "    print(i)\n",
    "    print(avg)"
   ]
  },
  {
   "cell_type": "code",
   "execution_count": null,
   "metadata": {
    "collapsed": false
   },
   "outputs": [],
   "source": [
    "fing_average"
   ]
  },
  {
   "cell_type": "code",
   "execution_count": null,
   "metadata": {
    "collapsed": false
   },
   "outputs": [],
   "source": [
    "find_average()"
   ]
  },
  {
   "cell_type": "code",
   "execution_count": null,
   "metadata": {
    "collapsed": false
   },
   "outputs": [],
   "source": [
    "def find_average():\n",
    "    num_list = [1, 5, 11, 83, 146]\n",
    "    for i in num_list:\n",
    "        i+=i\n",
    "        avg = i/len(num_list)\n",
    "    print(i)\n",
    "    print(avg)"
   ]
  },
  {
   "cell_type": "code",
   "execution_count": null,
   "metadata": {
    "collapsed": false
   },
   "outputs": [],
   "source": [
    "find_average()"
   ]
  },
  {
   "cell_type": "code",
   "execution_count": null,
   "metadata": {
    "collapsed": true
   },
   "outputs": [],
   "source": [
    "def find_average():\n",
    "    num_list = [1, 5, 11, 83, 146]\n",
    "    for i in num_list:\n",
    "        i+=i\n",
    "        avg = i/len(num_list)\n",
    "    print(\"Total: \" + str(i))\n",
    "    print(\"Average: \" + str(avg))"
   ]
  },
  {
   "cell_type": "code",
   "execution_count": null,
   "metadata": {
    "collapsed": false
   },
   "outputs": [],
   "source": [
    "find_average()"
   ]
  },
  {
   "cell_type": "code",
   "execution_count": null,
   "metadata": {
    "collapsed": true
   },
   "outputs": [],
   "source": [
    "def find_average(num_list):\n",
    "    while(i<6):\n",
    "        num_list = input(\"Enter a number: \")\n",
    "    for i in num_list:\n",
    "        i+=i\n",
    "        avg = i/len(num_list)\n",
    "    print(\"Total: \" + str(i))\n",
    "    print(\"Average: \" + str(avg))"
   ]
  },
  {
   "cell_type": "code",
   "execution_count": null,
   "metadata": {
    "collapsed": false
   },
   "outputs": [],
   "source": [
    "find_average()"
   ]
  },
  {
   "cell_type": "code",
   "execution_count": null,
   "metadata": {
    "collapsed": true
   },
   "outputs": [],
   "source": [
    "def find_average(num_list):\n",
    "    for i in num_list:\n",
    "        i+=i\n",
    "        avg = i/len(num_list)\n",
    "    print(\"Total: \" + str(i))\n",
    "    print(\"Average: \" + str(avg))"
   ]
  },
  {
   "cell_type": "code",
   "execution_count": null,
   "metadata": {
    "collapsed": false
   },
   "outputs": [],
   "source": [
    "find_average(5, 45, 27, 95, 47)"
   ]
  },
  {
   "cell_type": "code",
   "execution_count": null,
   "metadata": {
    "collapsed": false
   },
   "outputs": [],
   "source": [
    "def find_average(num_list[]):\n",
    "    for i in num_list:\n",
    "        i+=i\n",
    "        avg = i/len(num_list)\n",
    "    print(\"Total: \" + str(i))\n",
    "    print(\"Average: \" + str(avg))"
   ]
  },
  {
   "cell_type": "code",
   "execution_count": null,
   "metadata": {
    "collapsed": false
   },
   "outputs": [],
   "source": [
    "j=0\n",
    "while(j<6):\n",
    "    num_list = input(\"Enter a number: \")\n",
    "    num_list+=num_list\n",
    "    j+=1\n",
    "    \n",
    "def find_average():\n",
    "    for i in num_list:\n",
    "        i+=i\n",
    "        avg = i/len(num_list)\n",
    "    print(\"Total: \" + str(i))\n",
    "    print(\"Average: \" + str(avg))"
   ]
  },
  {
   "cell_type": "code",
   "execution_count": null,
   "metadata": {
    "collapsed": false
   },
   "outputs": [],
   "source": [
    "find_average()"
   ]
  },
  {
   "cell_type": "code",
   "execution_count": null,
   "metadata": {
    "collapsed": false
   },
   "outputs": [],
   "source": [
    "def find_average(num_list = []):\n",
    "    for i in num_list:\n",
    "        i+=i\n",
    "        avg = i/len(num_list)\n",
    "    print(\"Total: \" + str(i))\n",
    "    print(\"Average: \" + str(avg))"
   ]
  },
  {
   "cell_type": "code",
   "execution_count": null,
   "metadata": {
    "collapsed": false
   },
   "outputs": [],
   "source": [
    "find_average(25, 89, 56, 47)"
   ]
  },
  {
   "cell_type": "code",
   "execution_count": null,
   "metadata": {
    "collapsed": true
   },
   "outputs": [],
   "source": [
    "def find_average(num_list = [], *num):\n",
    "    for i in num:\n",
    "        i+=i\n",
    "        avg = i/len(num_list)\n",
    "    print(\"Total: \" + str(i))\n",
    "    print(\"Average: \" + str(avg))"
   ]
  },
  {
   "cell_type": "code",
   "execution_count": null,
   "metadata": {
    "collapsed": false
   },
   "outputs": [],
   "source": [
    "find_average(25, 89, 56, 47)"
   ]
  },
  {
   "cell_type": "code",
   "execution_count": null,
   "metadata": {
    "collapsed": true
   },
   "outputs": [],
   "source": [
    "def find_average(*num):\n",
    "    num_list = []\n",
    "    for i in num:\n",
    "        num_list.append(i)\n",
    "        i+=i\n",
    "    avg = i/len(num_list)\n",
    "    print(num_list)\n",
    "    print(\"Total: \" + str(i))\n",
    "    print(\"Average: \" + str(avg))"
   ]
  },
  {
   "cell_type": "code",
   "execution_count": null,
   "metadata": {
    "collapsed": false
   },
   "outputs": [],
   "source": [
    "find_average(56, 65, 98, 76)"
   ]
  },
  {
   "cell_type": "code",
   "execution_count": null,
   "metadata": {
    "collapsed": false
   },
   "outputs": [],
   "source": [
    "find_average(50, 50, 50, 50, 50)"
   ]
  },
  {
   "cell_type": "code",
   "execution_count": null,
   "metadata": {
    "collapsed": true
   },
   "outputs": [],
   "source": [
    "def find_average(*num):\n",
    "    num_list = []\n",
    "    for i in num:\n",
    "        num_list.append(i)\n",
    "    tot = sum(num_list)\n",
    "    avg = tot/len(num_list)\n",
    "    \n",
    "    print(num_list)\n",
    "    print(\"Total: \" + str(tot))\n",
    "    print(\"Average: \" + str(avg))"
   ]
  },
  {
   "cell_type": "code",
   "execution_count": null,
   "metadata": {
    "collapsed": false
   },
   "outputs": [],
   "source": [
    "find_average(50, 50, 50, 50, 50)"
   ]
  },
  {
   "cell_type": "code",
   "execution_count": null,
   "metadata": {
    "collapsed": false
   },
   "outputs": [],
   "source": [
    "find_average(65, 89, 37, 51, 20, 9)"
   ]
  },
  {
   "cell_type": "code",
   "execution_count": null,
   "metadata": {
    "collapsed": true
   },
   "outputs": [],
   "source": [
    "def average(numbers):\n",
    "    return sum(numbers)/len(numbers)"
   ]
  },
  {
   "cell_type": "code",
   "execution_count": null,
   "metadata": {
    "collapsed": false
   },
   "outputs": [],
   "source": [
    "average([65, 89, 37, 51, 20, 9])"
   ]
  },
  {
   "cell_type": "code",
   "execution_count": null,
   "metadata": {
    "collapsed": true
   },
   "outputs": [],
   "source": []
  }
 ],
 "metadata": {
  "kernelspec": {
   "display_name": "Python 3",
   "language": "python",
   "name": "python3"
  },
  "language_info": {
   "codemirror_mode": {
    "name": "ipython",
    "version": 3
   },
   "file_extension": ".py",
   "mimetype": "text/x-python",
   "name": "python",
   "nbconvert_exporter": "python",
   "pygments_lexer": "ipython3",
   "version": "3.5.1"
  }
 },
 "nbformat": 4,
 "nbformat_minor": 0
}
