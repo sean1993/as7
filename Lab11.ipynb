{
 "cells": [
  {
   "cell_type": "code",
   "execution_count": null,
   "metadata": {
    "collapsed": false
   },
   "outputs": [],
   "source": [
    "for item in b\"this is a string\":\n",
    "    print(item)"
   ]
  },
  {
   "cell_type": "code",
   "execution_count": null,
   "metadata": {
    "collapsed": false
   },
   "outputs": [],
   "source": [
    "b\"this is a sentence\".split()"
   ]
  },
  {
   "cell_type": "code",
   "execution_count": null,
   "metadata": {
    "collapsed": false
   },
   "outputs": [],
   "source": [
    "freq = {}\n",
    "sentence = \"today is the first of March\"\n",
    "\n",
    "for letter in sentence:\n",
    "    print(letter)"
   ]
  },
  {
   "cell_type": "code",
   "execution_count": null,
   "metadata": {
    "collapsed": false
   },
   "outputs": [],
   "source": [
    "freq = {}\n",
    "sentence = \"today is the first of March\"\n",
    "\n",
    "for word in sentence.split():\n",
    "    print(word)"
   ]
  },
  {
   "cell_type": "code",
   "execution_count": null,
   "metadata": {
    "collapsed": false
   },
   "outputs": [],
   "source": [
    "freq = {}\n",
    "sentence = \"today is the first of March\"\n",
    "\n",
    "for word in sentence.split():\n",
    "    if letter not in (\" \", \",\", \"\\n\"):\n",
    "        print(word)"
   ]
  },
  {
   "cell_type": "code",
   "execution_count": null,
   "metadata": {
    "collapsed": false
   },
   "outputs": [],
   "source": [
    "freq = {}\n",
    "sentence = \"today is the first of March\"\n",
    "\n",
    "for letter in sentence:\n",
    "    if letter not in (\" \", \",\", \"\\n\"):\n",
    "        print(letter)"
   ]
  },
  {
   "cell_type": "code",
   "execution_count": null,
   "metadata": {
    "collapsed": false
   },
   "outputs": [],
   "source": [
    "freq = {}\n",
    "sentence = '\\\"Today is the first of March\\\", he said'\n",
    "\n",
    "for letter in sentence:\n",
    "    if letter not in (\" \", \",\", \"\\n\"):\n",
    "        print(letter)"
   ]
  },
  {
   "cell_type": "code",
   "execution_count": null,
   "metadata": {
    "collapsed": false
   },
   "outputs": [],
   "source": [
    "freq = {}\n",
    "sentence = '\\\"Today is the first of March\\\", he said'\n",
    "print(sentence)\n",
    "\n",
    "for letter in sentence:\n",
    "    if letter not in (\" ,\\n\"):\n",
    "        print(letter)"
   ]
  },
  {
   "cell_type": "code",
   "execution_count": null,
   "metadata": {
    "collapsed": true
   },
   "outputs": [],
   "source": [
    "#dir object name - list commands that can be used."
   ]
  },
  {
   "cell_type": "code",
   "execution_count": null,
   "metadata": {
    "collapsed": false
   },
   "outputs": [],
   "source": [
    "freq = {}\n",
    "sentence = '\\\"Today is the first of March\\\", he said'\n",
    "\n",
    "for letter in sentence.lower():\n",
    "    if letter not in (\" ,\\n\"):\n",
    "        print(letter, end='')"
   ]
  },
  {
   "cell_type": "code",
   "execution_count": null,
   "metadata": {
    "collapsed": false
   },
   "outputs": [],
   "source": [
    "type(freq)"
   ]
  },
  {
   "cell_type": "code",
   "execution_count": null,
   "metadata": {
    "collapsed": false
   },
   "outputs": [],
   "source": [
    "freq = {}\n",
    "sentence = '\\\"Today is the first of March\\\", he said'\n",
    "\n",
    "for letter in sentence.lower():\n",
    "    if letter not in (\" ,\\n\"):\n",
    "        freq[letter] = freq(letter, 0) + 1"
   ]
  },
  {
   "cell_type": "code",
   "execution_count": 2,
   "metadata": {
    "collapsed": false
   },
   "outputs": [
    {
     "name": "stdout",
     "output_type": "stream",
     "text": [
      "{'t': 3, 'i': 3, 'h': 3, 's': 3, 'a': 3, 'y': 1, 'e': 2, 'r': 2, 'c': 1, 'f': 2, 'o': 2, 'd': 2, 'm': 1}\n"
     ]
    }
   ],
   "source": [
    "freq = {}\n",
    "sentence = '\\\"Today is the first of March\\\", he said'\n",
    "\n",
    "for letter in sentence.lower():\n",
    "    if letter not in (\" ,\\n\\\"\"):\n",
    "        freq[letter] = freq.get(letter, 0) + 1\n",
    "print(freq)"
   ]
  },
  {
   "cell_type": "code",
   "execution_count": 6,
   "metadata": {
    "collapsed": false
   },
   "outputs": [
    {
     "name": "stdout",
     "output_type": "stream",
     "text": [
      "this\n",
      "is\n",
      "a\n",
      "pile\n",
      "of\n",
      "nonsense\n"
     ]
    }
   ],
   "source": [
    "tweet = \"this is a pile of crap\"\n",
    "banned_words = {\"crap\":\"nonsense\"}\n",
    "\n",
    "for word in tweet.split():\n",
    "    if word not in banned_words.keys():\n",
    "        print(word)\n",
    "    else:\n",
    "        print(banned_words[word])"
   ]
  },
  {
   "cell_type": "code",
   "execution_count": 7,
   "metadata": {
    "collapsed": false
   },
   "outputs": [
    {
     "name": "stdout",
     "output_type": "stream",
     "text": [
      "this\n",
      "is\n",
      "a\n",
      "pile\n",
      "of\n",
      "nonsense\n",
      "****\n"
     ]
    }
   ],
   "source": [
    "tweet = \"this is a pile of crap flurb\"\n",
    "banned_words = {\"crap\":\"nonsense\", \"flurb\":\"****\"}\n",
    "\n",
    "for word in tweet.split():\n",
    "    if word not in banned_words.keys():\n",
    "        print(word)\n",
    "    else:\n",
    "        print(banned_words[word])"
   ]
  },
  {
   "cell_type": "code",
   "execution_count": 19,
   "metadata": {
    "collapsed": false
   },
   "outputs": [
    {
     "data": {
      "text/plain": [
       "{'a': '***',\n",
       " 'c': '*',\n",
       " 'd': '**',\n",
       " 'e': '**',\n",
       " 'f': '**',\n",
       " 'h': '***',\n",
       " 'i': '***',\n",
       " 'm': '*',\n",
       " 'o': '**',\n",
       " 'r': '**',\n",
       " 's': '***',\n",
       " 't': '***',\n",
       " 'y': '*'}"
      ]
     },
     "execution_count": 19,
     "metadata": {},
     "output_type": "execute_result"
    }
   ],
   "source": [
    "freq = {}\n",
    "sentence = '\\\"Today is the first of March\\\", he said'\n",
    "star = \"\"\n",
    "\n",
    "for letter in sentence.lower():\n",
    "    if letter not in (\" ,\\n\\\"\"):\n",
    "        freq[letter] = freq.get(letter, star) + '*'\n",
    "freq"
   ]
  },
  {
   "cell_type": "code",
   "execution_count": 21,
   "metadata": {
    "collapsed": false
   },
   "outputs": [
    {
     "name": "stdout",
     "output_type": "stream",
     "text": [
      "Key: a, Value: ***\n",
      "Key: c, Value: *\n",
      "Key: d, Value: **\n",
      "Key: e, Value: **\n",
      "Key: f, Value: **\n",
      "Key: h, Value: ***\n",
      "Key: i, Value: ***\n",
      "Key: m, Value: *\n",
      "Key: o, Value: **\n",
      "Key: r, Value: **\n",
      "Key: s, Value: ***\n",
      "Key: t, Value: ***\n",
      "Key: y, Value: *\n"
     ]
    }
   ],
   "source": [
    "freq = {}\n",
    "sentence = '\\\"Today is the first of March\\\", he said'\n",
    "\n",
    "for letter in sentence.lower():\n",
    "    if letter not in (\" ,\\n\\\"\"):\n",
    "        freq[letter] = freq.get(letter, 0) + 1\n",
    "\n",
    "for k, v in sorted(freq.items()):\n",
    "    print('Key: {0}, Value: {1}'.format(k, '*'*v))"
   ]
  },
  {
   "cell_type": "code",
   "execution_count": 22,
   "metadata": {
    "collapsed": false
   },
   "outputs": [
    {
     "data": {
      "text/plain": [
       "collections.Counter"
      ]
     },
     "execution_count": 22,
     "metadata": {},
     "output_type": "execute_result"
    }
   ],
   "source": [
    "from collections import Counter\n",
    "count = Counter()\n",
    "type(count)"
   ]
  },
  {
   "cell_type": "code",
   "execution_count": 25,
   "metadata": {
    "collapsed": false
   },
   "outputs": [
    {
     "data": {
      "text/plain": [
       "['__add__',\n",
       " '__and__',\n",
       " '__class__',\n",
       " '__contains__',\n",
       " '__delattr__',\n",
       " '__delitem__',\n",
       " '__dict__',\n",
       " '__dir__',\n",
       " '__doc__',\n",
       " '__eq__',\n",
       " '__format__',\n",
       " '__ge__',\n",
       " '__getattribute__',\n",
       " '__getitem__',\n",
       " '__gt__',\n",
       " '__hash__',\n",
       " '__iadd__',\n",
       " '__iand__',\n",
       " '__init__',\n",
       " '__ior__',\n",
       " '__isub__',\n",
       " '__iter__',\n",
       " '__le__',\n",
       " '__len__',\n",
       " '__lt__',\n",
       " '__missing__',\n",
       " '__module__',\n",
       " '__ne__',\n",
       " '__neg__',\n",
       " '__new__',\n",
       " '__or__',\n",
       " '__pos__',\n",
       " '__reduce__',\n",
       " '__reduce_ex__',\n",
       " '__repr__',\n",
       " '__setattr__',\n",
       " '__setitem__',\n",
       " '__sizeof__',\n",
       " '__str__',\n",
       " '__sub__',\n",
       " '__subclasshook__',\n",
       " '__weakref__',\n",
       " '_keep_positive',\n",
       " 'clear',\n",
       " 'copy',\n",
       " 'elements',\n",
       " 'fromkeys',\n",
       " 'get',\n",
       " 'items',\n",
       " 'keys',\n",
       " 'most_common',\n",
       " 'pop',\n",
       " 'popitem',\n",
       " 'setdefault',\n",
       " 'subtract',\n",
       " 'update',\n",
       " 'values']"
      ]
     },
     "execution_count": 25,
     "metadata": {},
     "output_type": "execute_result"
    }
   ],
   "source": [
    "dir(count)"
   ]
  },
  {
   "cell_type": "code",
   "execution_count": null,
   "metadata": {
    "collapsed": true
   },
   "outputs": [],
   "source": []
  }
 ],
 "metadata": {
  "kernelspec": {
   "display_name": "Python 3",
   "language": "python",
   "name": "python3"
  },
  "language_info": {
   "codemirror_mode": {
    "name": "ipython",
    "version": 3
   },
   "file_extension": ".py",
   "mimetype": "text/x-python",
   "name": "python",
   "nbconvert_exporter": "python",
   "pygments_lexer": "ipython3",
   "version": "3.5.1"
  }
 },
 "nbformat": 4,
 "nbformat_minor": 0
}
